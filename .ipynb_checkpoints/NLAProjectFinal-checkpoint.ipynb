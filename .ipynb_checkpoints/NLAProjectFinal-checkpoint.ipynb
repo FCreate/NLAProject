{
 "cells": [
  {
   "cell_type": "code",
   "execution_count": 1,
   "metadata": {},
   "outputs": [],
   "source": [
    "import pandas as pd\n",
    "import numpy as np\n",
    "from scipy.io import loadmat\n",
    "from scipy.sparse import csc\n",
    "import os\n",
    "import glob\n",
    "import pickle\n",
    "from tqdm import tqdm\n",
    "import scipy"
   ]
  },
  {
   "cell_type": "code",
   "execution_count": 2,
   "metadata": {},
   "outputs": [],
   "source": [
    "names = list(pd.read_csv(\"names.csv\", header = None)[0])\n",
    "Adj_mat = scipy.sparse.load_npz(\"adjacency_matrix.npz\")\n",
    "D_mat_half_inv = csc.csc_matrix(np.diag((1./np.sqrt(np.array(Adj_mat.sum(axis=0)))).flatten()))\n",
    "\n",
    "D_V = csc.csc_matrix(np.eye(len(names)))\n",
    "W_V = D_mat_half_inv@Adj_mat@D_mat_half_inv\n",
    "L_V = D_V - W_V"
   ]
  },
  {
   "cell_type": "code",
   "execution_count": 3,
   "metadata": {},
   "outputs": [
    {
     "name": "stdout",
     "output_type": "stream",
     "text": [
      "Directory already created\n"
     ]
    }
   ],
   "source": [
    "output_save_dir = \"output\"\n",
    "try:\n",
    "    os.mkdir(output_save_dir)\n",
    "except:\n",
    "    print(\"Directory already created\")"
   ]
  },
  {
   "cell_type": "code",
   "execution_count": 4,
   "metadata": {},
   "outputs": [],
   "source": [
    "all_cancer_files = sorted(glob.glob(\"input/*.npz\"))\n",
    "\n",
    "cancer_names = [file.split(\"/\")[1].split(\".\")[0].split(\"_\")[0] for file in all_cancer_files][::2]"
   ]
  },
  {
   "cell_type": "code",
   "execution_count": null,
   "metadata": {},
   "outputs": [],
   "source": [
    "def nmf(X_mut, X_exp):\n",
    "    X_mut = scipy.sparse.load_npz(\"input/\"+file+\"_mut.npz\")\n",
    "    X_mut  = ((X_mut!=0)+0)\n",
    "    X_exp = scipy.sparse.load_npz(\"input/\"+file+\"_exp.npz\").todense()\n",
    "    X_exp = X_exp[:, np.ravel(np.sum(X_mut.todense(), axis=0))>0]\n",
    "    N_sample = X_mut.shape[0]\n",
    "\n",
    "    PearsonCor = np.corrcoef(X_exp)\n",
    "    sigma_bandwidth = 1.0\n",
    "    W_U = np.exp(-((1.-PearsonCor)**2)/(2.*sigma_bandwidth**2))\n",
    "    D_U = np.diag(np.sum(W_U,axis = 0))\n",
    "    L_U = D_U - W_U\n",
    "\n",
    "    K_num = 4\n",
    "    lambda_LU = 1.0\n",
    "    lambda_RU = 1.0\n",
    "    lambda_LV = 1.0\n",
    "    lambda_RV = 1.0\n",
    "\n",
    "    eps_t = 10**(-5)\n",
    "\n",
    "\n",
    "    U_init = np.maximum(np.random.rand(N_sample,K_num),eps_t)\n",
    "    U_prev = U_init@np.diag(np.sum(U_init,axis = 0)**(-1))\n",
    "    V_init = np.maximum(np.random.rand(len(names),K_num),eps_t)\n",
    "    V_prev = V_init@np.diag(np.sum(U_init, axis = 0))\n",
    "    delta_U = 1.\n",
    "    delta_V = 1.\n",
    "    cnt = 0;\n",
    "    norms.append([])\n",
    "    delta_u_norms.append([])\n",
    "    delta_v_norms.append([])\n",
    "    \n",
    "    while ((delta_U > 10**(-3)) or (delta_V > 10**(-3)) and (cnt <= 500)):\n",
    "        norms[idx].append(np.linalg.norm(X_mut - U_prev@V_prev.T, ord=\"fro\"))\n",
    "        cnt = cnt + 1;\n",
    "        V_numer = X_mut.T@U_prev + lambda_LV*W_V@V_prev;\n",
    "        V_denum = V_prev@(U_prev.T@U_prev) + lambda_LV*D_V@V_prev + lambda_RV*np.ones((len(names),len(names)))@V_prev;\n",
    "        V_new = V_prev*V_numer/(V_denum + eps_t);\n",
    "        U_numer = X_mut@V_new + lambda_LU*W_U@U_prev;\n",
    "        U_denum = U_prev@(V_new.T@V_new) + lambda_LU*D_U@U_prev + lambda_RU*U_prev;\n",
    "        U_new = U_prev*U_numer/(U_denum + eps_t);\n",
    "        NormFactor = np.sum(U_new,axis = 0);\n",
    "        U_new = U_new@np.diag(NormFactor**(-1));\n",
    "        V_new = V_new@np.diag(NormFactor);\n",
    "\n",
    "        delta_U = np.linalg.norm(U_prev - U_new,'fro')**2/(np.linalg.norm(U_prev,'fro')**2);\n",
    "        delta_V = np.linalg.norm(V_prev - V_new,'fro')**2/(np.linalg.norm(V_prev,'fro')**2);\n",
    "        \n",
    "        delta_u_norms[idx].append(delta_U)\n",
    "        delta_v_norms[idx].append(delta_V)\n",
    "        U_prev = U_new;\n",
    "        V_prev = V_new;\n",
    "    top_genes = list(pd.Series(names)[np.flip(np.argsort(np.sort(V_new, axis = 1)[:, -1]))[:200]])\n",
    "    res = {\"top_genes\": top_genes, \"U_new\":U_new, \"V_new\":V_new}\n",
    "    with open(output_save_dir+\"/\"+file+\".pk\", 'wb') as f:\n",
    "        pickle.dump(res, f)"
   ]
  },
  {
   "cell_type": "code",
   "execution_count": 5,
   "metadata": {},
   "outputs": [
    {
     "name": "stdout",
     "output_type": "stream",
     "text": [
      "Run brca\n",
      "Run coadread\n",
      "Run gbm\n"
     ]
    }
   ],
   "source": [
    "norms = []\n",
    "delta_u_norms = []\n",
    "delta_v_norms = []\n",
    "for idx, file in enumerate(cancer_names):\n",
    "    print(\"Run \"+ file)\n",
    "    X_mut = scipy.sparse.load_npz(\"input/\"+file+\"_mut.npz\")\n",
    "    X_mut  = ((X_mut!=0)+0)\n",
    "    X_exp = scipy.sparse.load_npz(\"input/\"+file+\"_exp.npz\").todense()\n",
    "    X_exp = X_exp[:, np.ravel(np.sum(X_mut.todense(), axis=0))>0]\n",
    "    N_sample = X_mut.shape[0]\n",
    "\n",
    "    PearsonCor = np.corrcoef(X_exp)\n",
    "    sigma_bandwidth = 1.0\n",
    "    W_U = np.exp(-((1.-PearsonCor)**2)/(2.*sigma_bandwidth**2))\n",
    "    D_U = np.diag(np.sum(W_U,axis = 0))\n",
    "    L_U = D_U - W_U\n",
    "\n",
    "    K_num = 4\n",
    "    lambda_LU = 1.0\n",
    "    lambda_RU = 1.0\n",
    "    lambda_LV = 1.0\n",
    "    lambda_RV = 1.0\n",
    "\n",
    "    eps_t = 10**(-5)\n",
    "\n",
    "\n",
    "    U_init = np.maximum(np.random.rand(N_sample,K_num),eps_t)\n",
    "    U_prev = U_init@np.diag(np.sum(U_init,axis = 0)**(-1))\n",
    "    V_init = np.maximum(np.random.rand(len(names),K_num),eps_t)\n",
    "    V_prev = V_init@np.diag(np.sum(U_init, axis = 0))\n",
    "    delta_U = 1.\n",
    "    delta_V = 1.\n",
    "    cnt = 0;\n",
    "    norms.append([])\n",
    "    delta_u_norms.append([])\n",
    "    delta_v_norms.append([])\n",
    "    \n",
    "    while ((delta_U > 10**(-3)) or (delta_V > 10**(-3)) and (cnt <= 500)):\n",
    "        norms[idx].append(np.linalg.norm(X_mut - U_prev@V_prev.T, ord=\"fro\"))\n",
    "        cnt = cnt + 1;\n",
    "        V_numer = X_mut.T@U_prev + lambda_LV*W_V@V_prev;\n",
    "        V_denum = V_prev@(U_prev.T@U_prev) + lambda_LV*D_V@V_prev + lambda_RV*np.ones((len(names),len(names)))@V_prev;\n",
    "        V_new = V_prev*V_numer/(V_denum + eps_t);\n",
    "        U_numer = X_mut@V_new + lambda_LU*W_U@U_prev;\n",
    "        U_denum = U_prev@(V_new.T@V_new) + lambda_LU*D_U@U_prev + lambda_RU*U_prev;\n",
    "        U_new = U_prev*U_numer/(U_denum + eps_t);\n",
    "        NormFactor = np.sum(U_new,axis = 0);\n",
    "        U_new = U_new@np.diag(NormFactor**(-1));\n",
    "        V_new = V_new@np.diag(NormFactor);\n",
    "\n",
    "        delta_U = np.linalg.norm(U_prev - U_new,'fro')**2/(np.linalg.norm(U_prev,'fro')**2);\n",
    "        delta_V = np.linalg.norm(V_prev - V_new,'fro')**2/(np.linalg.norm(V_prev,'fro')**2);\n",
    "        \n",
    "        delta_u_norms[idx].append(delta_U)\n",
    "        delta_v_norms[idx].append(delta_V)\n",
    "        U_prev = U_new;\n",
    "        V_prev = V_new;\n",
    "    top_genes = list(pd.Series(names)[np.flip(np.argsort(np.sort(V_new, axis = 1)[:, -1]))[:200]])\n",
    "    res = {\"top_genes\": top_genes, \"U_new\":U_new, \"V_new\":V_new}\n",
    "    with open(output_save_dir+\"/\"+file+\".pk\", 'wb') as f:\n",
    "        pickle.dump(res, f)\n",
    "    "
   ]
  },
  {
   "cell_type": "code",
   "execution_count": 7,
   "metadata": {},
   "outputs": [],
   "source": [
    "output_python_genes = glob.glob(\"output/*.pk\")\n",
    "compare_results = {}\n",
    "for idx in range(len(output_python_genes)):\n",
    "    name_of_cancer = output_python_genes[idx].split(\"/\")[1].split(\".\")[0]\n",
    "    with open(output_python_genes[idx], 'rb') as f:\n",
    "        python_data = pickle.load(f)\n",
    "    compare_results[name_of_cancer] = python_data[\"top_genes\"]"
   ]
  },
  {
   "cell_type": "code",
   "execution_count": 6,
   "metadata": {},
   "outputs": [],
   "source": [
    "from sklearn.decomposition import NMF"
   ]
  },
  {
   "cell_type": "code",
   "execution_count": 31,
   "metadata": {},
   "outputs": [],
   "source": [
    "sklearn_model_regularized = {}\n",
    "for idx, file in enumerate(cancer_names):\n",
    "    X_mut = scipy.sparse.load_npz(\"input/\"+file+\"_mut.npz\")\n",
    "    X_mut  = ((X_mut!=0)+0)\n",
    "    model = NMF(n_components=4, alpha=1.5,l1_ratio=0.66666666, random_state= 42)\n",
    "    W = model.fit_transform(X_mut)\n",
    "    H = model.components_\n",
    "    top_genes = list(pd.Series(names)[np.flip(np.argsort(np.sort(H.T, axis = 1)[:, -1]))[:10]])\n",
    "    sklearn_model_regularized[cancer_names[idx]] = top_genes"
   ]
  },
  {
   "cell_type": "code",
   "execution_count": 32,
   "metadata": {},
   "outputs": [
    {
     "data": {
      "text/plain": [
       "{'brca': ['PCDHA1',\n",
       "  'PCDHA2',\n",
       "  'PCDHA3',\n",
       "  'PCDHA4',\n",
       "  'PCDHA5',\n",
       "  'TTN',\n",
       "  'PCDHA6',\n",
       "  'PCDHA7',\n",
       "  'PCDHA8',\n",
       "  'PCDHA9'],\n",
       " 'coadread': ['TTN',\n",
       "  'APC',\n",
       "  'SYNE1',\n",
       "  'FAT4',\n",
       "  'LRP2',\n",
       "  'LRP1B',\n",
       "  'DMD',\n",
       "  'USH2A',\n",
       "  'RELN',\n",
       "  'NEB'],\n",
       " 'gbm': ['PTEN',\n",
       "  'TP53',\n",
       "  'RB1',\n",
       "  'NF1',\n",
       "  'EGFR',\n",
       "  'DOCK1',\n",
       "  'ASPM',\n",
       "  'KLF6',\n",
       "  'ATR',\n",
       "  'TNFRSF11B']}"
      ]
     },
     "execution_count": 32,
     "metadata": {},
     "output_type": "execute_result"
    }
   ],
   "source": [
    "sklearn_model_regularized"
   ]
  },
  {
   "cell_type": "code",
   "execution_count": 36,
   "metadata": {},
   "outputs": [],
   "source": [
    "sklearn_model_non_regularized = {}\n",
    "for idx, file in enumerate(cancer_names):\n",
    "    X_mut = scipy.sparse.load_npz(\"input/\"+file+\"_mut.npz\")\n",
    "    X_mut  = ((X_mut!=0)+0)\n",
    "    model = NMF(n_components=4, alpha=0., random_state= 42)\n",
    "    W = model.fit_transform(X_mut)\n",
    "    H = model.components_\n",
    "    top_genes = list(pd.Series(names)[np.flip(np.argsort(np.sort(H.T, axis = 1)[:, -1]))[:10]])\n",
    "    sklearn_model_non_regularized[cancer_names[idx]] = top_genes"
   ]
  },
  {
   "cell_type": "code",
   "execution_count": 37,
   "metadata": {},
   "outputs": [
    {
     "data": {
      "text/plain": [
       "{'brca': ['PCDHA1',\n",
       "  'PCDHA2',\n",
       "  'PCDHA3',\n",
       "  'PCDHA4',\n",
       "  'TTN',\n",
       "  'PCDHA5',\n",
       "  'PCDHA6',\n",
       "  'PCDHA7',\n",
       "  'PIK3CA',\n",
       "  'PCDHA8'],\n",
       " 'coadread': ['APC',\n",
       "  'TTN',\n",
       "  'SYNE1',\n",
       "  'LRP1B',\n",
       "  'DMD',\n",
       "  'FAT4',\n",
       "  'LRP2',\n",
       "  'ABCA12',\n",
       "  'RELN',\n",
       "  'DNAH5'],\n",
       " 'gbm': ['PTEN',\n",
       "  'TP53',\n",
       "  'RB1',\n",
       "  'EGFR',\n",
       "  'NF1',\n",
       "  'DST',\n",
       "  'PIK3R1',\n",
       "  'COL1A1',\n",
       "  'COL3A1',\n",
       "  'MSH6']}"
      ]
     },
     "execution_count": 37,
     "metadata": {},
     "output_type": "execute_result"
    }
   ],
   "source": [
    "sklearn_model_non_regularized"
   ]
  }
 ],
 "metadata": {
  "kernelspec": {
   "display_name": "Python 3",
   "language": "python",
   "name": "python3"
  },
  "language_info": {
   "codemirror_mode": {
    "name": "ipython",
    "version": 3
   },
   "file_extension": ".py",
   "mimetype": "text/x-python",
   "name": "python",
   "nbconvert_exporter": "python",
   "pygments_lexer": "ipython3",
   "version": "3.7.4"
  }
 },
 "nbformat": 4,
 "nbformat_minor": 4
}
