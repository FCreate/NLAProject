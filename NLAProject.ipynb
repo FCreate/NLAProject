{
 "cells": [
  {
   "cell_type": "code",
   "execution_count": 1,
   "metadata": {},
   "outputs": [],
   "source": [
    "import pandas as pd\n",
    "import numpy as np\n",
    "from scipy.io import loadmat\n",
    "from scipy.sparse import csc\n",
    "import os\n",
    "import glob\n",
    "import pickle"
   ]
  },
  {
   "cell_type": "code",
   "execution_count": 2,
   "metadata": {},
   "outputs": [],
   "source": [
    "a = loadmat('network/Adj_mat.mat')\n",
    "names = [arr[0][0] for arr in a[\"GeneSymbol_net\"]]\n",
    "Adj_mat = a[\"Adj_mat\"]\n",
    "D_mat_half_inv = csc.csc_matrix(np.diag((1./np.sqrt(np.array(Adj_mat.sum(axis=0)))).flatten()))\n",
    "#D_mat_half_inv = np.diag(1./np.sqrt(np.sum(Adj_mat, axis = 0)))\n",
    "\n",
    "D_V = csc.csc_matrix(np.eye(len(names)))\n",
    "W_V = D_mat_half_inv@Adj_mat@D_mat_half_inv\n",
    "L_V = D_V - W_V"
   ]
  },
  {
   "cell_type": "code",
   "execution_count": 3,
   "metadata": {},
   "outputs": [
    {
     "name": "stdout",
     "output_type": "stream",
     "text": [
      "Directory already created\n"
     ]
    }
   ],
   "source": [
    "output_save_dir = \"output\"\n",
    "try:\n",
    "    os.mkdir(output_save_dir)\n",
    "except:\n",
    "    print(\"Directory already created\")"
   ]
  },
  {
   "cell_type": "code",
   "execution_count": 4,
   "metadata": {},
   "outputs": [],
   "source": [
    "all_cancer_files = glob.glob(\"input_cancer_data/*.mat\")\n",
    "cancer_names = [file.split(\"\\\\\")[1].split(\".\")[0].split(\"_\")[0] for file in all_cancer_files]"
   ]
  },
  {
   "cell_type": "code",
   "execution_count": 5,
   "metadata": {},
   "outputs": [
    {
     "name": "stdout",
     "output_type": "stream",
     "text": [
      "Run input_cancer_data\\brca_tcga_pub.mat\n",
      "Run input_cancer_data\\coadread_tcga_pub.mat\n",
      "Run input_cancer_data\\gbm_tcga_pub.mat\n"
     ]
    }
   ],
   "source": [
    "for idx, file in enumerate(all_cancer_files):\n",
    "    print(\"Run \"+ file)\n",
    "    d = loadmat(file)\n",
    "\n",
    "    X_mut  = ((d[\"X_SNV_Net\"]!=0)+0)\n",
    "    X_exp = d[\"X_EXP_Net\"][:, np.ravel(np.sum(X_mut.todense(), axis=0))>0]\n",
    "    N_sample = X_mut.shape[0]\n",
    "\n",
    "    PearsonCor = np.corrcoef(X_exp)\n",
    "    sigma_bandwidth = 1.0\n",
    "    W_U = np.exp(-((1.-PearsonCor)**2)/(2.*sigma_bandwidth**2))\n",
    "    D_U = np.diag(np.sum(W_U,axis = 0))\n",
    "    L_U = D_U - W_U\n",
    "\n",
    "    K_num = 4\n",
    "    lambda_LU = 1.0\n",
    "    lambda_RU = 1.0\n",
    "    lambda_LV = 1.0\n",
    "    lambda_RV = 1.0\n",
    "\n",
    "    # --- RS-CRNMF --- %\n",
    "    #print('run RS-CRNMF ...')\n",
    "    eps_t = 10**(-5)\n",
    "\n",
    "\n",
    "    U_init = np.maximum(np.random.rand(N_sample,K_num),eps_t)\n",
    "    U_prev = U_init@np.diag(np.sum(U_init,axis = 0)**(-1));\n",
    "    V_init = np.maximum(np.random.rand(len(names),K_num),eps_t);\n",
    "    V_prev = V_init@np.diag(np.sum(U_init, axis = 0));\n",
    "    delta_U = 1.;\n",
    "    delta_V = 1.;\n",
    "    cnt = 0;\n",
    "    while ((delta_U > 10**(-3)) or (delta_V > 10**(-3)) and (cnt <= 500)):\n",
    "        cnt = cnt + 1;\n",
    "        V_numer = X_mut.T@U_prev + lambda_LV*W_V@V_prev;\n",
    "        V_denum = V_prev@(U_prev.T@U_prev) + lambda_LV*D_V@V_prev + lambda_RV*np.ones((len(names),len(names)))@V_prev;\n",
    "        V_new = V_prev*V_numer/(V_denum + eps_t);\n",
    "        #print(\"V_new \", V_new.shape)\n",
    "        U_numer = X_mut@V_new + lambda_LU*W_U@U_prev;\n",
    "        U_denum = U_prev@(V_new.T@V_new) + lambda_LU*D_U@U_prev + lambda_RU*U_prev;\n",
    "        U_new = U_prev*U_numer/(U_denum + eps_t);\n",
    "        #print(\"U_new \"U_new.shape)\n",
    "        NormFactor = np.sum(U_new,axis = 0);\n",
    "        #print(NormFactor.shape)\n",
    "        U_new = U_new@np.diag(NormFactor**(-1));\n",
    "        V_new = V_new@np.diag(NormFactor);\n",
    "\n",
    "        delta_U = np.linalg.norm(U_prev - U_new,'fro')**2/(np.linalg.norm(U_prev,'fro')**2);\n",
    "        delta_V = np.linalg.norm(V_prev - V_new,'fro')**2/(np.linalg.norm(V_prev,'fro')**2);\n",
    "\n",
    "        U_prev = U_new;\n",
    "        V_prev = V_new;\n",
    "    top_genes = list(pd.Series(names)[np.flip(np.argsort(np.sort(V_new, axis = 1)[:, -1]))[:200]])\n",
    "    res = {\"top_genes\": top_genes, \"U_new\":U_new, \"V_new\":V_new}\n",
    "    with open(output_save_dir+\"/\"+cancer_names[idx]+\".pk\", 'wb') as f:\n",
    "        pickle.dump(res, f)\n",
    "    "
   ]
  },
  {
   "cell_type": "code",
   "execution_count": 11,
   "metadata": {},
   "outputs": [],
   "source": [
    "output_matlab_genes = glob.glob(\"output/*.mat\")\n",
    "output_python_genes = glob.glob(\"output/*.pk\")\n",
    "compare_results = {}\n",
    "for idx in range(len(output_python_genes)):\n",
    "    name_of_cancer = output_python_genes[idx].split(\"\\\\\")[1].split(\".\")[0]\n",
    "    matlab_data = loadmat(output_matlab_genes[idx])\n",
    "    with open(output_python_genes[idx], 'rb') as f:\n",
    "        python_data = pickle.load(f)\n",
    "    compare_results[name_of_cancer] = [matlab_data['Candidates_list'], python_data[\"top_genes\"]]"
   ]
  },
  {
   "cell_type": "code",
   "execution_count": 17,
   "metadata": {},
   "outputs": [
    {
     "data": {
      "text/html": [
       "<div>\n",
       "<style scoped>\n",
       "    .dataframe tbody tr th:only-of-type {\n",
       "        vertical-align: middle;\n",
       "    }\n",
       "\n",
       "    .dataframe tbody tr th {\n",
       "        vertical-align: top;\n",
       "    }\n",
       "\n",
       "    .dataframe thead th {\n",
       "        text-align: right;\n",
       "    }\n",
       "</style>\n",
       "<table border=\"1\" class=\"dataframe\">\n",
       "  <thead>\n",
       "    <tr style=\"text-align: right;\">\n",
       "      <th></th>\n",
       "      <th>brca</th>\n",
       "      <th>coadread</th>\n",
       "      <th>gbm</th>\n",
       "    </tr>\n",
       "  </thead>\n",
       "  <tbody>\n",
       "    <tr>\n",
       "      <th>0</th>\n",
       "      <td>[[[TP53]], [[PIK3CA]], [[TTN]], [[MUC16]], [[G...</td>\n",
       "      <td>[[[APC]], [[TP53]], [[KRAS]], [[TTN]], [[SYNE1...</td>\n",
       "      <td>[[[TP53]], [[PTEN]], [[EGFR]], [[NF1]], [[RB1]...</td>\n",
       "    </tr>\n",
       "    <tr>\n",
       "      <th>1</th>\n",
       "      <td>[TP53, PIK3CA, TTN, MUC16, GATA3, CDH1, MAP3K1...</td>\n",
       "      <td>[APC, TP53, KRAS, TTN, SYNE1, LRP1B, MUC16, PI...</td>\n",
       "      <td>[TP53, PTEN, EGFR, NF1, RB1, PIK3R1, ERBB2, PI...</td>\n",
       "    </tr>\n",
       "  </tbody>\n",
       "</table>\n",
       "</div>"
      ],
      "text/plain": [
       "                                                brca  \\\n",
       "0  [[[TP53]], [[PIK3CA]], [[TTN]], [[MUC16]], [[G...   \n",
       "1  [TP53, PIK3CA, TTN, MUC16, GATA3, CDH1, MAP3K1...   \n",
       "\n",
       "                                            coadread  \\\n",
       "0  [[[APC]], [[TP53]], [[KRAS]], [[TTN]], [[SYNE1...   \n",
       "1  [APC, TP53, KRAS, TTN, SYNE1, LRP1B, MUC16, PI...   \n",
       "\n",
       "                                                 gbm  \n",
       "0  [[[TP53]], [[PTEN]], [[EGFR]], [[NF1]], [[RB1]...  \n",
       "1  [TP53, PTEN, EGFR, NF1, RB1, PIK3R1, ERBB2, PI...  "
      ]
     },
     "execution_count": 17,
     "metadata": {},
     "output_type": "execute_result"
    }
   ],
   "source": [
    "pd.DataFrame.from_dict(compare_results)"
   ]
  }
 ],
 "metadata": {
  "kernelspec": {
   "display_name": "Python 3",
   "language": "python",
   "name": "python3"
  },
  "language_info": {
   "codemirror_mode": {
    "name": "ipython",
    "version": 3
   },
   "file_extension": ".py",
   "mimetype": "text/x-python",
   "name": "python",
   "nbconvert_exporter": "python",
   "pygments_lexer": "ipython3",
   "version": "3.6.5"
  }
 },
 "nbformat": 4,
 "nbformat_minor": 2
}
