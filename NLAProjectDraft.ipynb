{
 "cells": [
  {
   "cell_type": "code",
   "execution_count": 1,
   "metadata": {},
   "outputs": [],
   "source": [
    "import pandas as pd\n",
    "import numpy as np\n",
    "from scipy.io import loadmat\n",
    "from scipy.sparse import csc\n",
    "import os\n",
    "import glob\n",
    "import pickle\n",
    "from tqdm import tqdm\n",
    "import scipy"
   ]
  },
  {
   "cell_type": "code",
   "execution_count": 2,
   "metadata": {},
   "outputs": [],
   "source": [
    "names = list(pd.read_csv(\"names.csv\", header = None)[0])\n",
    "Adj_mat = scipy.sparse.load_npz(\"adjacency_matrix.npz\")\n",
    "D_mat_half_inv = csc.csc_matrix(np.diag((1./np.sqrt(np.array(Adj_mat.sum(axis=0)))).flatten()))\n",
    "\n",
    "D_V = csc.csc_matrix(np.eye(len(names)))\n",
    "W_V = D_mat_half_inv@Adj_mat@D_mat_half_inv\n",
    "L_V = D_V - W_V"
   ]
  },
  {
   "cell_type": "code",
   "execution_count": 3,
   "metadata": {},
   "outputs": [
    {
     "name": "stdout",
     "output_type": "stream",
     "text": [
      "Directory already created\n"
     ]
    }
   ],
   "source": [
    "output_save_dir = \"output\"\n",
    "try:\n",
    "    os.mkdir(output_save_dir)\n",
    "except:\n",
    "    print(\"Directory already created\")"
   ]
  },
  {
   "cell_type": "code",
   "execution_count": 4,
   "metadata": {},
   "outputs": [],
   "source": [
    "all_cancer_files = sorted(glob.glob(\"input/*.npz\"))\n",
    "\n",
    "cancer_names = [file.split(\"/\")[1].split(\".\")[0].split(\"_\")[0] for file in all_cancer_files][::2]"
   ]
  },
  {
   "cell_type": "code",
   "execution_count": null,
   "metadata": {},
   "outputs": [],
   "source": [
    "def nmf(X_mut, X_exp):\n",
    "    X_mut = scipy.sparse.load_npz(\"input/\"+file+\"_mut.npz\")\n",
    "    X_mut  = ((X_mut!=0)+0)\n",
    "    X_exp = scipy.sparse.load_npz(\"input/\"+file+\"_exp.npz\").todense()\n",
    "    X_exp = X_exp[:, np.ravel(np.sum(X_mut.todense(), axis=0))>0]\n",
    "    N_sample = X_mut.shape[0]\n",
    "\n",
    "    PearsonCor = np.corrcoef(X_exp)\n",
    "    sigma_bandwidth = 1.0\n",
    "    W_U = np.exp(-((1.-PearsonCor)**2)/(2.*sigma_bandwidth**2))\n",
    "    D_U = np.diag(np.sum(W_U,axis = 0))\n",
    "    L_U = D_U - W_U\n",
    "\n",
    "    K_num = 4\n",
    "    lambda_LU = 1.0\n",
    "    lambda_RU = 1.0\n",
    "    lambda_LV = 1.0\n",
    "    lambda_RV = 1.0\n",
    "\n",
    "    eps_t = 10**(-5)\n",
    "\n",
    "\n",
    "    U_init = np.maximum(np.random.rand(N_sample,K_num),eps_t)\n",
    "    U_prev = U_init@np.diag(np.sum(U_init,axis = 0)**(-1))\n",
    "    V_init = np.maximum(np.random.rand(len(names),K_num),eps_t)\n",
    "    V_prev = V_init@np.diag(np.sum(U_init, axis = 0))\n",
    "    delta_U = 1.\n",
    "    delta_V = 1.\n",
    "    cnt = 0;\n",
    "    norms.append([])\n",
    "    delta_u_norms.append([])\n",
    "    delta_v_norms.append([])\n",
    "    \n",
    "    while ((delta_U > 10**(-3)) or (delta_V > 10**(-3)) and (cnt <= 500)):\n",
    "        norms[idx].append(np.linalg.norm(X_mut - U_prev@V_prev.T, ord=\"fro\"))\n",
    "        cnt = cnt + 1;\n",
    "        V_numer = X_mut.T@U_prev + lambda_LV*W_V@V_prev;\n",
    "        V_denum = V_prev@(U_prev.T@U_prev) + lambda_LV*D_V@V_prev + lambda_RV*np.ones((len(names),len(names)))@V_prev;\n",
    "        V_new = V_prev*V_numer/(V_denum + eps_t);\n",
    "        U_numer = X_mut@V_new + lambda_LU*W_U@U_prev;\n",
    "        U_denum = U_prev@(V_new.T@V_new) + lambda_LU*D_U@U_prev + lambda_RU*U_prev;\n",
    "        U_new = U_prev*U_numer/(U_denum + eps_t);\n",
    "        NormFactor = np.sum(U_new,axis = 0);\n",
    "        U_new = U_new@np.diag(NormFactor**(-1));\n",
    "        V_new = V_new@np.diag(NormFactor);\n",
    "\n",
    "        delta_U = np.linalg.norm(U_prev - U_new,'fro')**2/(np.linalg.norm(U_prev,'fro')**2);\n",
    "        delta_V = np.linalg.norm(V_prev - V_new,'fro')**2/(np.linalg.norm(V_prev,'fro')**2);\n",
    "        \n",
    "        delta_u_norms[idx].append(delta_U)\n",
    "        delta_v_norms[idx].append(delta_V)\n",
    "        U_prev = U_new;\n",
    "        V_prev = V_new;\n",
    "    top_genes = list(pd.Series(names)[np.flip(np.argsort(np.sort(V_new, axis = 1)[:, -1]))[:200]])\n",
    "    res = {\"top_genes\": top_genes, \"U_new\":U_new, \"V_new\":V_new}\n",
    "    with open(output_save_dir+\"/\"+file+\".pk\", 'wb') as f:\n",
    "        pickle.dump(res, f)"
   ]
  },
  {
   "cell_type": "code",
   "execution_count": 5,
   "metadata": {},
   "outputs": [
    {
     "name": "stdout",
     "output_type": "stream",
     "text": [
      "Run brca\n",
      "Run coadread\n",
      "Run gbm\n"
     ]
    }
   ],
   "source": [
    "norms = []\n",
    "delta_u_norms = []\n",
    "delta_v_norms = []\n",
    "for idx, file in enumerate(cancer_names):\n",
    "    print(\"Run \"+ file)\n",
    "    X_mut = scipy.sparse.load_npz(\"input/\"+file+\"_mut.npz\")\n",
    "    X_mut  = ((X_mut!=0)+0)\n",
    "    X_exp = scipy.sparse.load_npz(\"input/\"+file+\"_exp.npz\").todense()\n",
    "    X_exp = X_exp[:, np.ravel(np.sum(X_mut.todense(), axis=0))>0]\n",
    "    N_sample = X_mut.shape[0]\n",
    "\n",
    "    PearsonCor = np.corrcoef(X_exp)\n",
    "    sigma_bandwidth = 1.0\n",
    "    W_U = np.exp(-((1.-PearsonCor)**2)/(2.*sigma_bandwidth**2))\n",
    "    D_U = np.diag(np.sum(W_U,axis = 0))\n",
    "    L_U = D_U - W_U\n",
    "\n",
    "    K_num = 4\n",
    "    lambda_LU = 1.0\n",
    "    lambda_RU = 1.0\n",
    "    lambda_LV = 1.0\n",
    "    lambda_RV = 1.0\n",
    "\n",
    "    eps_t = 10**(-5)\n",
    "\n",
    "\n",
    "    U_init = np.maximum(np.random.rand(N_sample,K_num),eps_t)\n",
    "    U_prev = U_init@np.diag(np.sum(U_init,axis = 0)**(-1))\n",
    "    V_init = np.maximum(np.random.rand(len(names),K_num),eps_t)\n",
    "    V_prev = V_init@np.diag(np.sum(U_init, axis = 0))\n",
    "    delta_U = 1.\n",
    "    delta_V = 1.\n",
    "    cnt = 0;\n",
    "    norms.append([])\n",
    "    delta_u_norms.append([])\n",
    "    delta_v_norms.append([])\n",
    "    \n",
    "    while ((delta_U > 10**(-3)) or (delta_V > 10**(-3)) and (cnt <= 500)):\n",
    "        norms[idx].append(np.linalg.norm(X_mut - U_prev@V_prev.T, ord=\"fro\"))\n",
    "        cnt = cnt + 1;\n",
    "        V_numer = X_mut.T@U_prev + lambda_LV*W_V@V_prev;\n",
    "        V_denum = V_prev@(U_prev.T@U_prev) + lambda_LV*D_V@V_prev + lambda_RV*np.ones((len(names),len(names)))@V_prev;\n",
    "        V_new = V_prev*V_numer/(V_denum + eps_t);\n",
    "        U_numer = X_mut@V_new + lambda_LU*W_U@U_prev;\n",
    "        U_denum = U_prev@(V_new.T@V_new) + lambda_LU*D_U@U_prev + lambda_RU*U_prev;\n",
    "        U_new = U_prev*U_numer/(U_denum + eps_t);\n",
    "        NormFactor = np.sum(U_new,axis = 0);\n",
    "        U_new = U_new@np.diag(NormFactor**(-1));\n",
    "        V_new = V_new@np.diag(NormFactor);\n",
    "\n",
    "        delta_U = np.linalg.norm(U_prev - U_new,'fro')**2/(np.linalg.norm(U_prev,'fro')**2);\n",
    "        delta_V = np.linalg.norm(V_prev - V_new,'fro')**2/(np.linalg.norm(V_prev,'fro')**2);\n",
    "        \n",
    "        delta_u_norms[idx].append(delta_U)\n",
    "        delta_v_norms[idx].append(delta_V)\n",
    "        U_prev = U_new;\n",
    "        V_prev = V_new;\n",
    "    top_genes = list(pd.Series(names)[np.flip(np.argsort(np.sort(V_new, axis = 1)[:, -1]))[:200]])\n",
    "    res = {\"top_genes\": top_genes, \"U_new\":U_new, \"V_new\":V_new}\n",
    "    with open(output_save_dir+\"/\"+file+\".pk\", 'wb') as f:\n",
    "        pickle.dump(res, f)\n",
    "    "
   ]
  },
  {
   "cell_type": "code",
   "execution_count": 7,
   "metadata": {},
   "outputs": [],
   "source": [
    "output_python_genes = glob.glob(\"output/*.pk\")\n",
    "compare_results = {}\n",
    "for idx in range(len(output_python_genes)):\n",
    "    name_of_cancer = output_python_genes[idx].split(\"/\")[1].split(\".\")[0]\n",
    "    with open(output_python_genes[idx], 'rb') as f:\n",
    "        python_data = pickle.load(f)\n",
    "    compare_results[name_of_cancer] = python_data[\"top_genes\"]"
   ]
  },
  {
   "cell_type": "code",
   "execution_count": 6,
   "metadata": {},
   "outputs": [],
   "source": [
    "from sklearn.decomposition import NMF"
   ]
  },
  {
   "cell_type": "code",
   "execution_count": 31,
   "metadata": {},
   "outputs": [],
   "source": [
    "sklearn_model_regularized = {}\n",
    "for idx, file in enumerate(cancer_names):\n",
    "    X_mut = scipy.sparse.load_npz(\"input/\"+file+\"_mut.npz\")\n",
    "    X_mut  = ((X_mut!=0)+0)\n",
    "    model = NMF(n_components=4, alpha=1.5,l1_ratio=0.66666666, random_state= 42)\n",
    "    W = model.fit_transform(X_mut)\n",
    "    H = model.components_\n",
    "    top_genes = list(pd.Series(names)[np.flip(np.argsort(np.sort(H.T, axis = 1)[:, -1]))[:10]])\n",
    "    sklearn_model_regularized[cancer_names[idx]] = top_genes"
   ]
  },
  {
   "cell_type": "code",
   "execution_count": 32,
   "metadata": {},
   "outputs": [
    {
     "data": {
      "text/plain": [
       "{'brca': ['PCDHA1',\n",
       "  'PCDHA2',\n",
       "  'PCDHA3',\n",
       "  'PCDHA4',\n",
       "  'PCDHA5',\n",
       "  'TTN',\n",
       "  'PCDHA6',\n",
       "  'PCDHA7',\n",
       "  'PCDHA8',\n",
       "  'PCDHA9'],\n",
       " 'coadread': ['TTN',\n",
       "  'APC',\n",
       "  'SYNE1',\n",
       "  'FAT4',\n",
       "  'LRP2',\n",
       "  'LRP1B',\n",
       "  'DMD',\n",
       "  'USH2A',\n",
       "  'RELN',\n",
       "  'NEB'],\n",
       " 'gbm': ['PTEN',\n",
       "  'TP53',\n",
       "  'RB1',\n",
       "  'NF1',\n",
       "  'EGFR',\n",
       "  'DOCK1',\n",
       "  'ASPM',\n",
       "  'KLF6',\n",
       "  'ATR',\n",
       "  'TNFRSF11B']}"
      ]
     },
     "execution_count": 32,
     "metadata": {},
     "output_type": "execute_result"
    }
   ],
   "source": [
    "sklearn_model_regularized"
   ]
  },
  {
   "cell_type": "code",
   "execution_count": 36,
   "metadata": {},
   "outputs": [],
   "source": [
    "sklearn_model_non_regularized = {}\n",
    "for idx, file in enumerate(cancer_names):\n",
    "    X_mut = scipy.sparse.load_npz(\"input/\"+file+\"_mut.npz\")\n",
    "    X_mut  = ((X_mut!=0)+0)\n",
    "    model = NMF(n_components=4, alpha=0., random_state= 42)\n",
    "    W = model.fit_transform(X_mut)\n",
    "    H = model.components_\n",
    "    top_genes = list(pd.Series(names)[np.flip(np.argsort(np.sort(H.T, axis = 1)[:, -1]))[:10]])\n",
    "    sklearn_model_non_regularized[cancer_names[idx]] = top_genes"
   ]
  },
  {
   "cell_type": "code",
   "execution_count": 37,
   "metadata": {},
   "outputs": [
    {
     "data": {
      "text/plain": [
       "{'brca': ['PCDHA1',\n",
       "  'PCDHA2',\n",
       "  'PCDHA3',\n",
       "  'PCDHA4',\n",
       "  'TTN',\n",
       "  'PCDHA5',\n",
       "  'PCDHA6',\n",
       "  'PCDHA7',\n",
       "  'PIK3CA',\n",
       "  'PCDHA8'],\n",
       " 'coadread': ['APC',\n",
       "  'TTN',\n",
       "  'SYNE1',\n",
       "  'LRP1B',\n",
       "  'DMD',\n",
       "  'FAT4',\n",
       "  'LRP2',\n",
       "  'ABCA12',\n",
       "  'RELN',\n",
       "  'DNAH5'],\n",
       " 'gbm': ['PTEN',\n",
       "  'TP53',\n",
       "  'RB1',\n",
       "  'EGFR',\n",
       "  'NF1',\n",
       "  'DST',\n",
       "  'PIK3R1',\n",
       "  'COL1A1',\n",
       "  'COL3A1',\n",
       "  'MSH6']}"
      ]
     },
     "execution_count": 37,
     "metadata": {},
     "output_type": "execute_result"
    }
   ],
   "source": [
    "sklearn_model_non_regularized"
   ]
  },
  {
   "cell_type": "code",
   "execution_count": 40,
   "metadata": {},
   "outputs": [
    {
     "data": {
      "text/plain": [
       "[<matplotlib.lines.Line2D at 0x7f2a2e824490>]"
      ]
     },
     "execution_count": 40,
     "metadata": {},
     "output_type": "execute_result"
    },
    {
     "data": {
      "image/png": "[encoded data removed]",
      "text/plain": [
       "<Figure size 432x288 with 1 Axes>"
      ]
     },
     "metadata": {
      "needs_background": "light"
     },
     "output_type": "display_data"
    }
   ],
   "source": [
    "import matplotlib.pyplot as plt\n",
    "%matplotlib inline\n",
    "plt.plot(list(range(1,1000)), res)"
   ]
  },
  {
   "cell_type": "code",
   "execution_count": 10,
   "metadata": {},
   "outputs": [],
   "source": [
    "from sklearn.decomposition import NMF"
   ]
  },
  {
   "cell_type": "code",
   "execution_count": null,
   "metadata": {},
   "outputs": [],
   "source": [
    "NMF()"
   ]
  },
  {
   "cell_type": "code",
   "execution_count": 65,
   "metadata": {},
   "outputs": [],
   "source": [
    "rand_matr= np.random.rand(10,10)\n",
    "res = []\n",
    "for k in range(1,10):\n",
    "    nmf = NMF(n_components=k,l1_ratio= 1.0, alpha=0.,random_state= 0,init=\"random\")\n",
    "    W = nmf.fit_transform(rand_matr)\n",
    "    H = nmf.components_\n",
    "    #u,v,cnt = nmf_no_exp(rand_matr,k)\n",
    "    res.append(np.linalg.norm(rand_matr - W@H))"
   ]
  },
  {
   "cell_type": "code",
   "execution_count": 66,
   "metadata": {},
   "outputs": [],
   "source": [
    "res_nmf = res"
   ]
  },
  {
   "cell_type": "code",
   "execution_count": 67,
   "metadata": {},
   "outputs": [],
   "source": [
    "res_svd = []\n",
    "u, s, v = np.linalg.svd(rand_matr, full_matrices=True)\n",
    "sigma = np.zeros((u.shape[0], v.shape[0]))\n",
    "np.fill_diagonal(sigma, s)\n"
   ]
  },
  {
   "cell_type": "code",
   "execution_count": 68,
   "metadata": {},
   "outputs": [],
   "source": [
    "for k in range(1,10):\n",
    "    res_svd.append(np.linalg.norm(rand_matr - u[:, :k]@sigma[:k, :k]@v[:k, :]))"
   ]
  },
  {
   "cell_type": "code",
   "execution_count": 69,
   "metadata": {},
   "outputs": [
    {
     "data": {
      "image/png": "[encoded data removed]",
      "text/plain": [
       "<Figure size 720x720 with 1 Axes>"
      ]
     },
     "metadata": {
      "needs_background": "light"
     },
     "output_type": "display_data"
    }
   ],
   "source": [
    "import matplotlib.pyplot as plt\n",
    "%matplotlib inline\n",
    "plt.figure(figsize=(10,10))\n",
    "plt.semilogy(res_svd, label = 'svd')\n",
    "plt.semilogy(res_nmf[:10], label = 'nmf')\n",
    "plt.legend()\n",
    "plt.xlabel(\"Number of k\")\n",
    "plt.ylabel(\"Residual\")\n",
    "plt.grid()"
   ]
  },
  {
   "cell_type": "code",
   "execution_count": 85,
   "metadata": {},
   "outputs": [
    {
     "name": "stdout",
     "output_type": "stream",
     "text": [
      "4\n"
     ]
    }
   ],
   "source": [
    "U, V, cnt = nmf(brca_mut, brca_exp, 4)"
   ]
  },
  {
   "cell_type": "code",
   "execution_count": 88,
   "metadata": {},
   "outputs": [
    {
     "data": {
      "text/plain": [
       "array([[0.00122953, 0.00123116, 0.00122958, 0.00122966],\n",
       "       [0.00114865, 0.00112538, 0.0011255 , 0.00110677],\n",
       "       [0.00096851, 0.00096067, 0.00095405, 0.0009503 ],\n",
       "       ...,\n",
       "       [0.00093698, 0.00093597, 0.00093563, 0.00093575],\n",
       "       [0.0009369 , 0.00093584, 0.00093551, 0.0009356 ],\n",
       "       [0.00102143, 0.00104537, 0.00104331, 0.00106226]])"
      ]
     },
     "execution_count": 88,
     "metadata": {},
     "output_type": "execute_result"
    }
   ],
   "source": [
    "U"
   ]
  },
  {
   "cell_type": "code",
   "execution_count": 40,
   "metadata": {},
   "outputs": [
    {
     "data": {
      "text/plain": [
       "[<matplotlib.lines.Line2D at 0x7f2a2e824490>]"
      ]
     },
     "execution_count": 40,
     "metadata": {},
     "output_type": "execute_result"
    },
    {
     "data": {
      "image/png": "[encoded data removed]",
      "text/plain": [
       "<Figure size 432x288 with 1 Axes>"
      ]
     },
     "metadata": {
      "needs_background": "light"
     },
     "output_type": "display_data"
    }
   ],
   "source": [
    "\n",
    "plt.plot(list(range(1,1000)), res)"
   ]
  },
  {
   "cell_type": "code",
   "execution_count": 42,
   "metadata": {},
   "outputs": [
    {
     "data": {
      "text/plain": [
       "array([[nan, nan, nan, ..., nan, nan, nan],\n",
       "       [nan, nan, nan, ..., nan, nan, nan],\n",
       "       [nan, nan, nan, ..., nan, nan, nan],\n",
       "       ...,\n",
       "       [nan, nan, nan, ..., nan, nan, nan],\n",
       "       [nan, nan, nan, ..., nan, nan, nan],\n",
       "       [nan, nan, nan, ..., nan, nan, nan]])"
      ]
     },
     "execution_count": 42,
     "metadata": {},
     "output_type": "execute_result"
    }
   ],
   "source": [
    "v"
   ]
  },
  {
   "cell_type": "code",
   "execution_count": null,
   "metadata": {},
   "outputs": [],
   "source": [
    "brca_"
   ]
  },
  {
   "cell_type": "code",
   "execution_count": 47,
   "metadata": {},
   "outputs": [
    {
     "name": "stdout",
     "output_type": "stream",
     "text": [
      "1\n",
      "101\n",
      "201\n",
      "301\n",
      "401\n",
      "501\n",
      "601\n",
      "701\n",
      "801\n",
      "901\n"
     ]
    },
    {
     "data": {
      "text/plain": [
       "[<matplotlib.lines.Line2D at 0x7f2a2e869f10>]"
      ]
     },
     "execution_count": 47,
     "metadata": {},
     "output_type": "execute_result"
    },
    {
     "data": {
      "image/png": "[encoded data removed]",
      "text/plain": [
       "<Figure size 432x288 with 1 Axes>"
      ]
     },
     "metadata": {
      "needs_background": "light"
     },
     "output_type": "display_data"
    }
   ],
   "source": [
    "res = []\n",
    "for k in range(1,1000,100):\n",
    "    u,v,cnt = nmf_no_exp(brca_mut,k)\n",
    "    res.append(np.linalg.norm(brca_mut - u@v.T))\n",
    "plt.plot(list(range(1,1000,100)), res)"
   ]
  },
  {
   "cell_type": "code",
   "execution_count": null,
   "metadata": {},
   "outputs": [
    {
     "name": "stdout",
     "output_type": "stream",
     "text": [
      "3000\n"
     ]
    }
   ],
   "source": [
    "u,v,cnt = nmf_no_exp(brca_mut,3000)\n",
    "res.append(np.linalg.norm(brca_mut - u@v.T))"
   ]
  },
  {
   "cell_type": "code",
   "execution_count": null,
   "metadata": {},
   "outputs": [],
   "source": []
  },
  {
   "cell_type": "code",
   "execution_count": 122,
   "metadata": {
    "collapsed": true,
    "jupyter": {
     "outputs_hidden": true
    }
   },
   "outputs": [
    {
     "name": "stderr",
     "output_type": "stream",
     "text": [
      "\n",
      "\n",
      "\n",
      "\n",
      "\n",
      "  0%|          | 0/49 [00:00<?, ?it/s]\u001b[A\u001b[A\u001b[A\u001b[A\u001b[A\n",
      "\n",
      "\n",
      "\n",
      "\n",
      "  2%|▏         | 1/49 [00:05<04:09,  5.20s/it]\u001b[A\u001b[A\u001b[A\u001b[A\u001b[A\n",
      "\n",
      "\n",
      "\n",
      "\n",
      "  4%|▍         | 2/49 [00:11<04:14,  5.41s/it]\u001b[A\u001b[A\u001b[A\u001b[A\u001b[A\n",
      "\n",
      "\n",
      "\n",
      "\n",
      "  6%|▌         | 3/49 [00:16<04:10,  5.45s/it]\u001b[A\u001b[A\u001b[A\u001b[A\u001b[A\n",
      "\n",
      "\n",
      "\n",
      "\n",
      "  8%|▊         | 4/49 [00:22<04:09,  5.55s/it]\u001b[A\u001b[A\u001b[A\u001b[A\u001b[A\n",
      "\n",
      "\n",
      "\n",
      "\n",
      " 10%|█         | 5/49 [00:28<04:05,  5.59s/it]\u001b[A\u001b[A\u001b[A\u001b[A\u001b[A\n",
      "\n",
      "\n",
      "\n",
      "\n",
      " 12%|█▏        | 6/49 [00:34<04:14,  5.91s/it]\u001b[A\u001b[A\u001b[A\u001b[A\u001b[A\n",
      "\n",
      "\n",
      "\n",
      "\n",
      " 14%|█▍        | 7/49 [00:41<04:23,  6.27s/it]\u001b[A\u001b[A\u001b[A\u001b[A\u001b[A\n",
      "\n",
      "\n",
      "\n",
      "\n",
      " 16%|█▋        | 8/49 [00:48<04:18,  6.30s/it]\u001b[A\u001b[A\u001b[A\u001b[A\u001b[A\n",
      "\n",
      "\n",
      "\n",
      "\n",
      " 18%|█▊        | 9/49 [00:54<04:15,  6.38s/it]\u001b[A\u001b[A\u001b[A\u001b[A\u001b[A\n",
      "\n",
      "\n",
      "\n",
      "\n",
      " 20%|██        | 10/49 [01:01<04:13,  6.51s/it]\u001b[A\u001b[A\u001b[A\u001b[A\u001b[A\n",
      "\n",
      "\n",
      "\n",
      "\n",
      " 22%|██▏       | 11/49 [01:08<04:16,  6.74s/it]\u001b[A\u001b[A\u001b[A\u001b[A\u001b[A\n",
      "\n",
      "\n",
      "\n",
      "\n",
      " 24%|██▍       | 12/49 [01:16<04:19,  7.02s/it]\u001b[A\u001b[A\u001b[A\u001b[A\u001b[A\n",
      "\n",
      "\n",
      "\n",
      "\n",
      " 27%|██▋       | 13/49 [01:24<04:19,  7.22s/it]\u001b[A\u001b[A\u001b[A\u001b[A\u001b[A\n",
      "\n",
      "\n",
      "\n",
      "\n",
      " 29%|██▊       | 14/49 [01:32<04:19,  7.40s/it]\u001b[A\u001b[A\u001b[A\u001b[A\u001b[A\n",
      "\n",
      "\n",
      "\n",
      "\n",
      " 31%|███       | 15/49 [01:39<04:11,  7.39s/it]\u001b[A\u001b[A\u001b[A\u001b[A\u001b[A\n",
      "\n",
      "\n",
      "\n",
      "\n",
      " 33%|███▎      | 16/49 [01:49<04:27,  8.10s/it]\u001b[A\u001b[A\u001b[A\u001b[A\u001b[A\n",
      "\n",
      "\n",
      "\n",
      "\n",
      " 35%|███▍      | 17/49 [01:57<04:23,  8.24s/it]\u001b[A\u001b[A\u001b[A\u001b[A\u001b[A\n",
      "\n",
      "\n",
      "\n",
      "\n",
      " 37%|███▋      | 18/49 [02:07<04:26,  8.58s/it]\u001b[A\u001b[A\u001b[A\u001b[A\u001b[A\n",
      "\n",
      "\n",
      "\n",
      "\n",
      " 39%|███▉      | 19/49 [02:16<04:20,  8.69s/it]\u001b[A\u001b[A\u001b[A\u001b[A\u001b[A\n",
      "\n",
      "\n",
      "\n",
      "\n",
      " 41%|████      | 20/49 [02:29<04:51, 10.05s/it]\u001b[A\u001b[A\u001b[A\u001b[A\u001b[A\n",
      "\n",
      "\n",
      "\n",
      "\n",
      " 43%|████▎     | 21/49 [02:43<05:14, 11.24s/it]\u001b[A\u001b[A\u001b[A\u001b[A\u001b[A\n",
      "\n",
      "\n",
      "\n",
      "\n",
      " 45%|████▍     | 22/49 [02:56<05:22, 11.94s/it]\u001b[A\u001b[A\u001b[A\u001b[A\u001b[A\n",
      "\n",
      "\n",
      "\n",
      "\n",
      " 47%|████▋     | 23/49 [03:11<05:28, 12.64s/it]\u001b[A\u001b[A\u001b[A\u001b[A\u001b[A\n",
      "\n",
      "\n",
      "\n",
      "\n",
      " 49%|████▉     | 24/49 [03:26<05:34, 13.38s/it]\u001b[A\u001b[A\u001b[A\u001b[A\u001b[A\n",
      "\n",
      "\n",
      "\n",
      "\n",
      " 51%|█████     | 25/49 [03:41<05:37, 14.05s/it]\u001b[A\u001b[A\u001b[A\u001b[A\u001b[A\n",
      "\n",
      "\n",
      "\n",
      "\n",
      " 53%|█████▎    | 26/49 [03:59<05:47, 15.10s/it]\u001b[A\u001b[A\u001b[A\u001b[A\u001b[A\n",
      "\n",
      "\n",
      "\n",
      "\n",
      " 55%|█████▌    | 27/49 [04:15<05:38, 15.38s/it]\u001b[A\u001b[A\u001b[A\u001b[A\u001b[A\n",
      "\n",
      "\n",
      "\n",
      "\n",
      " 57%|█████▋    | 28/49 [04:31<05:28, 15.65s/it]\u001b[A\u001b[A\u001b[A\u001b[A\u001b[A\n",
      "\n",
      "\n",
      "\n",
      "\n",
      " 59%|█████▉    | 29/49 [04:48<05:17, 15.89s/it]\u001b[A\u001b[A\u001b[A\u001b[A\u001b[A\n",
      "\n",
      "\n",
      "\n",
      "\n",
      " 61%|██████    | 30/49 [05:05<05:08, 16.22s/it]\u001b[A\u001b[A\u001b[A\u001b[A\u001b[A\n",
      "\n",
      "\n",
      "\n",
      "\n",
      " 63%|██████▎   | 31/49 [05:25<05:11, 17.30s/it]\u001b[A\u001b[A\u001b[A\u001b[A\u001b[A\n",
      "\n",
      "\n",
      "\n",
      "\n",
      " 65%|██████▌   | 32/49 [05:41<04:48, 16.95s/it]\u001b[A\u001b[A\u001b[A\u001b[A\u001b[A\n",
      "\n",
      "\n",
      "\n",
      "\n",
      " 67%|██████▋   | 33/49 [05:59<04:35, 17.24s/it]\u001b[A\u001b[A\u001b[A\u001b[A\u001b[A\n",
      "\n",
      "\n",
      "\n",
      "\n",
      " 69%|██████▉   | 34/49 [06:17<04:22, 17.53s/it]\u001b[A\u001b[A\u001b[A\u001b[A\u001b[A\n",
      "\n",
      "\n",
      "\n",
      "\n",
      " 71%|███████▏  | 35/49 [06:36<04:12, 18.05s/it]\u001b[A\u001b[A\u001b[A\u001b[A\u001b[A\n",
      "\n",
      "\n",
      "\n",
      "\n",
      " 73%|███████▎  | 36/49 [06:55<03:57, 18.27s/it]\u001b[A\u001b[A\u001b[A\u001b[A\u001b[A\n",
      "\n",
      "\n",
      "\n",
      "\n",
      " 76%|███████▌  | 37/49 [07:16<03:50, 19.18s/it]\u001b[A\u001b[A\u001b[A\u001b[A\u001b[A\n",
      "\n",
      "\n",
      "\n",
      "\n",
      " 78%|███████▊  | 38/49 [07:35<03:30, 19.12s/it]\u001b[A\u001b[A\u001b[A\u001b[A\u001b[A\n",
      "\n",
      "\n",
      "\n",
      "\n",
      " 80%|███████▉  | 39/49 [07:54<03:09, 18.97s/it]\u001b[A\u001b[A\u001b[A\u001b[A\u001b[A\n",
      "\n",
      "\n",
      "\n",
      "\n",
      " 82%|████████▏ | 40/49 [08:14<02:54, 19.43s/it]\u001b[A\u001b[A\u001b[A\u001b[A\u001b[A\n",
      "\n",
      "\n",
      "\n",
      "\n",
      " 84%|████████▎ | 41/49 [08:33<02:34, 19.27s/it]\u001b[A\u001b[A\u001b[A\u001b[A\u001b[A\n",
      "\n",
      "\n",
      "\n",
      "\n",
      " 86%|████████▌ | 42/49 [08:52<02:14, 19.20s/it]\u001b[A\u001b[A\u001b[A\u001b[A\u001b[A\n",
      "\n",
      "\n",
      "\n",
      "\n",
      " 88%|████████▊ | 43/49 [09:11<01:54, 19.12s/it]\u001b[A\u001b[A\u001b[A\u001b[A\u001b[A\n",
      "\n",
      "\n",
      "\n",
      "\n",
      " 90%|████████▉ | 44/49 [09:31<01:36, 19.26s/it]\u001b[A\u001b[A\u001b[A\u001b[A\u001b[A\n",
      "\n",
      "\n",
      "\n",
      "\n",
      " 92%|█████████▏| 45/49 [09:51<01:18, 19.53s/it]\u001b[A\u001b[A\u001b[A\u001b[A\u001b[A\n",
      "\n",
      "\n",
      "\n",
      "\n",
      " 94%|█████████▍| 46/49 [10:11<00:59, 19.74s/it]\u001b[A\u001b[A\u001b[A\u001b[A\u001b[A\n",
      "\n",
      "\n",
      "\n",
      "\n",
      " 96%|█████████▌| 47/49 [10:32<00:39, 19.95s/it]\u001b[A\u001b[A\u001b[A\u001b[A\u001b[A\n",
      "\n",
      "\n",
      "\n",
      "\n",
      " 98%|█████████▊| 48/49 [10:52<00:20, 20.20s/it]\u001b[A\u001b[A\u001b[A\u001b[A\u001b[A\n",
      "\n",
      "\n",
      "\n",
      "\n",
      "100%|██████████| 49/49 [11:14<00:00, 13.77s/it]\u001b[A\u001b[A\u001b[A\u001b[A\u001b[A\n"
     ]
    }
   ],
   "source": [
    "counts = []\n",
    "svd_norms = []\n",
    "nmf_norms = []\n",
    "u, s, v = np.linalg.svd(brca_mut, full_matrices=True)\n",
    "sigma = np.zeros((u.shape[0], v.shape[0]))\n",
    "np.fill_diagonal(sigma, s)\n",
    "\n",
    "for i in tqdm(range(1,970, 20)):\n",
    "    u_brca, v_brca, cnt = nmf(brca_mut, brca_exp, i)\n",
    "    nmf_norms.append(np.linalg.norm(brca_mut - u_brca@(v_brca.T)))\n",
    "    svd_norms.append(np.linalg.norm(brca_mut - u[:, :i]@sigma[:i, :i]@v[:i, :]))\n",
    "    counts.append(cnt)\n",
    "    "
   ]
  },
  {
   "cell_type": "code",
   "execution_count": 125,
   "metadata": {},
   "outputs": [
    {
     "data": {
      "text/plain": [
       "[<matplotlib.lines.Line2D at 0x7fdaa8f68190>]"
      ]
     },
     "execution_count": 125,
     "metadata": {},
     "output_type": "execute_result"
    },
    {
     "data": {
      "image/png": "[encoded data removed]",
      "text/plain": [
       "<Figure size 432x288 with 1 Axes>"
      ]
     },
     "metadata": {
      "needs_background": "light"
     },
     "output_type": "display_data"
    }
   ],
   "source": [
    "import matplotlib.pyplot as plt\n",
    "%matplotlib inline\n",
    "plt.plot(list(range(1,970,20)), counts, '-*')"
   ]
  },
  {
   "cell_type": "code",
   "execution_count": 126,
   "metadata": {},
   "outputs": [
    {
     "data": {
      "text/plain": [
       "[<matplotlib.lines.Line2D at 0x7fdaa8edd350>]"
      ]
     },
     "execution_count": 126,
     "metadata": {},
     "output_type": "execute_result"
    },
    {
     "data": {
      "image/png": "[encoded data removed]",
      "text/plain": [
       "<Figure size 432x288 with 1 Axes>"
      ]
     },
     "metadata": {
      "needs_background": "light"
     },
     "output_type": "display_data"
    }
   ],
   "source": [
    "plt.plot(list(range(1,970,20)), svd_norms, '-*')\n",
    "plt.plot(list(range(1,970,20)), nmf_norms, '-.')\n"
   ]
  },
  {
   "cell_type": "code",
   "execution_count": 137,
   "metadata": {},
   "outputs": [],
   "source": [
    "rand_matr = np.random.rand(10,12199)"
   ]
  },
  {
   "cell_type": "code",
   "execution_count": 138,
   "metadata": {},
   "outputs": [],
   "source": [
    "rand_matr_expr = np.random.rand(10,12199)"
   ]
  },
  {
   "cell_type": "code",
   "execution_count": null,
   "metadata": {},
   "outputs": [],
   "source": []
  },
  {
   "cell_type": "code",
   "execution_count": 139,
   "metadata": {},
   "outputs": [
    {
     "name": "stderr",
     "output_type": "stream",
     "text": [
      "\n",
      "\n",
      "\n",
      "\n",
      "\n",
      "  0%|          | 0/9 [00:00<?, ?it/s]\u001b[A\u001b[A\u001b[A\u001b[A\u001b[A"
     ]
    },
    {
     "name": "stdout",
     "output_type": "stream",
     "text": [
      "1\n"
     ]
    },
    {
     "name": "stderr",
     "output_type": "stream",
     "text": [
      "\n"
     ]
    },
    {
     "ename": "ValueError",
     "evalue": "operands could not be broadcast together with shapes (12199,1) (12129,1) ",
     "output_type": "error",
     "traceback": [
      "\u001b[0;31m---------------------------------------------------------------------------\u001b[0m",
      "\u001b[0;31mValueError\u001b[0m                                Traceback (most recent call last)",
      "\u001b[0;32m<ipython-input-139-df6211ca6868>\u001b[0m in \u001b[0;36m<module>\u001b[0;34m\u001b[0m\n\u001b[1;32m      7\u001b[0m \u001b[0;34m\u001b[0m\u001b[0m\n\u001b[1;32m      8\u001b[0m \u001b[0;32mfor\u001b[0m \u001b[0mi\u001b[0m \u001b[0;32min\u001b[0m \u001b[0mtqdm\u001b[0m\u001b[0;34m(\u001b[0m\u001b[0mrange\u001b[0m\u001b[0;34m(\u001b[0m\u001b[0;36m1\u001b[0m\u001b[0;34m,\u001b[0m\u001b[0;36m10\u001b[0m\u001b[0;34m)\u001b[0m\u001b[0;34m)\u001b[0m\u001b[0;34m:\u001b[0m\u001b[0;34m\u001b[0m\u001b[0;34m\u001b[0m\u001b[0m\n\u001b[0;32m----> 9\u001b[0;31m     \u001b[0mu_nmf\u001b[0m\u001b[0;34m,\u001b[0m \u001b[0mv_nmf\u001b[0m\u001b[0;34m,\u001b[0m \u001b[0mcnt\u001b[0m \u001b[0;34m=\u001b[0m \u001b[0mnmf\u001b[0m\u001b[0;34m(\u001b[0m\u001b[0mrand_matr\u001b[0m\u001b[0;34m,\u001b[0m \u001b[0mrand_matr_expr\u001b[0m\u001b[0;34m,\u001b[0m \u001b[0mi\u001b[0m\u001b[0;34m)\u001b[0m\u001b[0;34m\u001b[0m\u001b[0;34m\u001b[0m\u001b[0m\n\u001b[0m\u001b[1;32m     10\u001b[0m     \u001b[0mnmf_norms\u001b[0m\u001b[0;34m.\u001b[0m\u001b[0mappend\u001b[0m\u001b[0;34m(\u001b[0m\u001b[0mnp\u001b[0m\u001b[0;34m.\u001b[0m\u001b[0mlinalg\u001b[0m\u001b[0;34m.\u001b[0m\u001b[0mnorm\u001b[0m\u001b[0;34m(\u001b[0m\u001b[0mrand_matr\u001b[0m \u001b[0;34m-\u001b[0m \u001b[0mu_nmf\u001b[0m\u001b[0;34m@\u001b[0m\u001b[0;34m(\u001b[0m\u001b[0mv_nmf\u001b[0m\u001b[0;34m.\u001b[0m\u001b[0mT\u001b[0m\u001b[0;34m)\u001b[0m\u001b[0;34m)\u001b[0m\u001b[0;34m)\u001b[0m\u001b[0;34m\u001b[0m\u001b[0;34m\u001b[0m\u001b[0m\n\u001b[1;32m     11\u001b[0m     \u001b[0msvd_norms\u001b[0m\u001b[0;34m.\u001b[0m\u001b[0mappend\u001b[0m\u001b[0;34m(\u001b[0m\u001b[0mnp\u001b[0m\u001b[0;34m.\u001b[0m\u001b[0mlinalg\u001b[0m\u001b[0;34m.\u001b[0m\u001b[0mnorm\u001b[0m\u001b[0;34m(\u001b[0m\u001b[0mrand_matr\u001b[0m \u001b[0;34m-\u001b[0m \u001b[0mu\u001b[0m\u001b[0;34m[\u001b[0m\u001b[0;34m:\u001b[0m\u001b[0;34m,\u001b[0m \u001b[0;34m:\u001b[0m\u001b[0mi\u001b[0m\u001b[0;34m]\u001b[0m\u001b[0;34m@\u001b[0m\u001b[0msigma\u001b[0m\u001b[0;34m[\u001b[0m\u001b[0;34m:\u001b[0m\u001b[0mi\u001b[0m\u001b[0;34m,\u001b[0m \u001b[0;34m:\u001b[0m\u001b[0mi\u001b[0m\u001b[0;34m]\u001b[0m\u001b[0;34m@\u001b[0m\u001b[0mv\u001b[0m\u001b[0;34m[\u001b[0m\u001b[0;34m:\u001b[0m\u001b[0mi\u001b[0m\u001b[0;34m,\u001b[0m \u001b[0;34m:\u001b[0m\u001b[0;34m]\u001b[0m\u001b[0;34m)\u001b[0m\u001b[0;34m)\u001b[0m\u001b[0;34m\u001b[0m\u001b[0;34m\u001b[0m\u001b[0m\n",
      "\u001b[0;32m<ipython-input-127-6a38f4254f51>\u001b[0m in \u001b[0;36mnmf\u001b[0;34m(X_mut, X_exp, K_num)\u001b[0m\n\u001b[1;32m     28\u001b[0m     \u001b[0;32mwhile\u001b[0m \u001b[0;34m(\u001b[0m\u001b[0;34m(\u001b[0m\u001b[0mdelta_U\u001b[0m \u001b[0;34m>\u001b[0m \u001b[0;36m10\u001b[0m\u001b[0;34m**\u001b[0m\u001b[0;34m(\u001b[0m\u001b[0;34m-\u001b[0m\u001b[0;36m3\u001b[0m\u001b[0;34m)\u001b[0m\u001b[0;34m)\u001b[0m \u001b[0;32mor\u001b[0m \u001b[0;34m(\u001b[0m\u001b[0mdelta_V\u001b[0m \u001b[0;34m>\u001b[0m \u001b[0;36m10\u001b[0m\u001b[0;34m**\u001b[0m\u001b[0;34m(\u001b[0m\u001b[0;34m-\u001b[0m\u001b[0;36m3\u001b[0m\u001b[0;34m)\u001b[0m\u001b[0;34m)\u001b[0m \u001b[0;32mand\u001b[0m \u001b[0;34m(\u001b[0m\u001b[0mcnt\u001b[0m \u001b[0;34m<=\u001b[0m \u001b[0;36m500\u001b[0m\u001b[0;34m)\u001b[0m\u001b[0;34m)\u001b[0m\u001b[0;34m:\u001b[0m\u001b[0;34m\u001b[0m\u001b[0;34m\u001b[0m\u001b[0m\n\u001b[1;32m     29\u001b[0m         \u001b[0mcnt\u001b[0m \u001b[0;34m=\u001b[0m \u001b[0mcnt\u001b[0m \u001b[0;34m+\u001b[0m \u001b[0;36m1\u001b[0m\u001b[0;34m;\u001b[0m\u001b[0;34m\u001b[0m\u001b[0;34m\u001b[0m\u001b[0m\n\u001b[0;32m---> 30\u001b[0;31m         \u001b[0mV_numer\u001b[0m \u001b[0;34m=\u001b[0m \u001b[0mX_mut\u001b[0m\u001b[0;34m.\u001b[0m\u001b[0mT\u001b[0m\u001b[0;34m@\u001b[0m\u001b[0mU_prev\u001b[0m \u001b[0;34m+\u001b[0m \u001b[0mlambda_LV\u001b[0m\u001b[0;34m*\u001b[0m\u001b[0mW_V\u001b[0m\u001b[0;34m@\u001b[0m\u001b[0mV_prev\u001b[0m\u001b[0;34m;\u001b[0m\u001b[0;34m\u001b[0m\u001b[0;34m\u001b[0m\u001b[0m\n\u001b[0m\u001b[1;32m     31\u001b[0m         \u001b[0mV_denum\u001b[0m \u001b[0;34m=\u001b[0m \u001b[0mV_prev\u001b[0m\u001b[0;34m@\u001b[0m\u001b[0;34m(\u001b[0m\u001b[0mU_prev\u001b[0m\u001b[0;34m.\u001b[0m\u001b[0mT\u001b[0m\u001b[0;34m@\u001b[0m\u001b[0mU_prev\u001b[0m\u001b[0;34m)\u001b[0m \u001b[0;34m+\u001b[0m \u001b[0mlambda_LV\u001b[0m\u001b[0;34m*\u001b[0m\u001b[0mD_V\u001b[0m\u001b[0;34m@\u001b[0m\u001b[0mV_prev\u001b[0m \u001b[0;34m+\u001b[0m \u001b[0mlambda_RV\u001b[0m\u001b[0;34m*\u001b[0m\u001b[0mnp\u001b[0m\u001b[0;34m.\u001b[0m\u001b[0mones\u001b[0m\u001b[0;34m(\u001b[0m\u001b[0;34m(\u001b[0m\u001b[0mlen\u001b[0m\u001b[0;34m(\u001b[0m\u001b[0mnames\u001b[0m\u001b[0;34m)\u001b[0m\u001b[0;34m,\u001b[0m\u001b[0mlen\u001b[0m\u001b[0;34m(\u001b[0m\u001b[0mnames\u001b[0m\u001b[0;34m)\u001b[0m\u001b[0;34m)\u001b[0m\u001b[0;34m)\u001b[0m\u001b[0;34m@\u001b[0m\u001b[0mV_prev\u001b[0m\u001b[0;34m;\u001b[0m\u001b[0;34m\u001b[0m\u001b[0;34m\u001b[0m\u001b[0m\n\u001b[1;32m     32\u001b[0m         \u001b[0mV_new\u001b[0m \u001b[0;34m=\u001b[0m \u001b[0mV_prev\u001b[0m\u001b[0;34m*\u001b[0m\u001b[0mV_numer\u001b[0m\u001b[0;34m/\u001b[0m\u001b[0;34m(\u001b[0m\u001b[0mV_denum\u001b[0m \u001b[0;34m+\u001b[0m \u001b[0meps_t\u001b[0m\u001b[0;34m)\u001b[0m\u001b[0;34m;\u001b[0m\u001b[0;34m\u001b[0m\u001b[0;34m\u001b[0m\u001b[0m\n",
      "\u001b[0;31mValueError\u001b[0m: operands could not be broadcast together with shapes (12199,1) (12129,1) "
     ]
    }
   ],
   "source": [
    "counts_rand_matr = []\n",
    "svd_norms_rand_matr = []\n",
    "nmf_norms_rand_matr = []\n",
    "u, s, v = np.linalg.svd(rand_matr, full_matrices=True)\n",
    "sigma = np.zeros((u.shape[0], v.shape[0]))\n",
    "np.fill_diagonal(sigma, s)\n",
    "\n",
    "for i in tqdm(range(1,10)):\n",
    "    u_nmf, v_nmf, cnt = nmf(rand_matr, rand_matr_expr, i)\n",
    "    nmf_norms.append(np.linalg.norm(rand_matr - u_nmf@(v_nmf.T)))\n",
    "    svd_norms.append(np.linalg.norm(rand_matr - u[:, :i]@sigma[:i, :i]@v[:i, :]))\n",
    "    counts.append(cnt)\n",
    "    "
   ]
  },
  {
   "cell_type": "code",
   "execution_count": 53,
   "metadata": {},
   "outputs": [],
   "source": [
    "import sklearn.de"
   ]
  },
  {
   "cell_type": "code",
   "execution_count": null,
   "metadata": {},
   "outputs": [],
   "source": [
    "NMF()"
   ]
  },
  {
   "cell_type": "code",
   "execution_count": 128,
   "metadata": {},
   "outputs": [
    {
     "name": "stdout",
     "output_type": "stream",
     "text": [
      "10\n"
     ]
    },
    {
     "data": {
      "text/plain": [
       "(array([[0.00123174, 0.00122648, 0.00122742, ..., 0.00122618, 0.00122774,\n",
       "         0.00123008],\n",
       "        [0.00111807, 0.00110823, 0.00110713, ..., 0.00110236, 0.00109655,\n",
       "         0.00111061],\n",
       "        [0.00096314, 0.0009393 , 0.00094245, ..., 0.00093749, 0.00094345,\n",
       "         0.00095356],\n",
       "        ...,\n",
       "        [0.00093635, 0.00093532, 0.00093545, ..., 0.00093539, 0.00093584,\n",
       "         0.00093586],\n",
       "        [0.0009362 , 0.00093518, 0.0009353 , ..., 0.00093524, 0.00093568,\n",
       "         0.00093571],\n",
       "        [0.00105365, 0.00105714, 0.00105932, ..., 0.00106278, 0.00107064,\n",
       "         0.00105895]]),\n",
       " array([[9.74390294e-19, 2.47056527e-19, 2.61568277e-18, ...,\n",
       "         4.03994381e-19, 1.40660843e-18, 4.87876549e-20],\n",
       "        [7.62133859e-18, 4.50654619e-18, 4.62416127e-18, ...,\n",
       "         4.31303697e-18, 1.16406851e-17, 2.57201267e-18],\n",
       "        [2.46996973e-14, 1.37825316e-14, 1.83308242e-16, ...,\n",
       "         8.18059426e-15, 6.11002348e-15, 1.23369222e-14],\n",
       "        ...,\n",
       "        [2.22899135e-17, 1.97964736e-17, 1.12211548e-17, ...,\n",
       "         1.54148419e-17, 2.56472471e-17, 4.29149041e-17],\n",
       "        [1.20321331e-15, 3.07470716e-15, 3.66106779e-15, ...,\n",
       "         5.51069209e-15, 4.98635623e-15, 1.23765298e-15],\n",
       "        [1.30586783e-17, 1.19388892e-18, 2.40682272e-17, ...,\n",
       "         1.27786260e-17, 1.30556117e-17, 3.17069475e-17]]),\n",
       " 12)"
      ]
     },
     "execution_count": 128,
     "metadata": {},
     "output_type": "execute_result"
    }
   ],
   "source": [
    "nmf(brca_mut, brca_exp, 10)"
   ]
  },
  {
   "cell_type": "code",
   "execution_count": 90,
   "metadata": {},
   "outputs": [],
   "source": [
    "model = NMF(n_components=4,alpha = 1.0, l1_ratio=1.0,init=\"random\")"
   ]
  },
  {
   "cell_type": "code",
   "execution_count": 92,
   "metadata": {},
   "outputs": [],
   "source": [
    "W = model.fit_transform(brca_mut)"
   ]
  },
  {
   "cell_type": "code",
   "execution_count": 93,
   "metadata": {},
   "outputs": [],
   "source": [
    "H = model.components_"
   ]
  },
  {
   "cell_type": "code",
   "execution_count": 95,
   "metadata": {},
   "outputs": [
    {
     "data": {
      "text/plain": [
       "0.9262106641760143"
      ]
     },
     "execution_count": 95,
     "metadata": {},
     "output_type": "execute_result"
    }
   ],
   "source": [
    "np.linalg.norm(brca_mut-W@H)/np.linalg.norm(brca_mut)"
   ]
  },
  {
   "cell_type": "code",
   "execution_count": null,
   "metadata": {},
   "outputs": [],
   "source": [
    "np.linalg.norm(brca_mut)"
   ]
  },
  {
   "cell_type": "code",
   "execution_count": 53,
   "metadata": {},
   "outputs": [
    {
     "data": {
      "text/plain": [
       "289.75210440372916"
      ]
     },
     "execution_count": 53,
     "metadata": {},
     "output_type": "execute_result"
    }
   ],
   "source": [
    "np.linalg.norm(brca_mut - U_brca@(V_brca.T))"
   ]
  },
  {
   "cell_type": "code",
   "execution_count": null,
   "metadata": {},
   "outputs": [],
   "source": []
  },
  {
   "cell_type": "code",
   "execution_count": 105,
   "metadata": {},
   "outputs": [],
   "source": [
    "model = NMF(n_components=4,init=\"random\")"
   ]
  },
  {
   "cell_type": "code",
   "execution_count": 106,
   "metadata": {},
   "outputs": [],
   "source": [
    "W = model.fit_transform(brca_mut)"
   ]
  },
  {
   "cell_type": "code",
   "execution_count": 107,
   "metadata": {},
   "outputs": [],
   "source": [
    "H = model.components_"
   ]
  },
  {
   "cell_type": "code",
   "execution_count": 108,
   "metadata": {},
   "outputs": [
    {
     "data": {
      "text/plain": [
       "267.9550957076446"
      ]
     },
     "execution_count": 108,
     "metadata": {},
     "output_type": "execute_result"
    }
   ],
   "source": [
    "np.linalg.norm(brca_mut-W@H)"
   ]
  },
  {
   "cell_type": "code",
   "execution_count": 110,
   "metadata": {},
   "outputs": [],
   "source": [
    "top_genes = list(pd.Series(names)[np.flip(np.argsort(np.sort(H.T, axis = 1)[:, -1]))[:10]])"
   ]
  },
  {
   "cell_type": "code",
   "execution_count": null,
   "metadata": {},
   "outputs": [],
   "source": []
  },
  {
   "cell_type": "code",
   "execution_count": null,
   "metadata": {},
   "outputs": [],
   "source": [
    "np.linalg.norm(brca_mut)"
   ]
  },
  {
   "cell_type": "code",
   "execution_count": 53,
   "metadata": {},
   "outputs": [
    {
     "data": {
      "text/plain": [
       "289.75210440372916"
      ]
     },
     "execution_count": 53,
     "metadata": {},
     "output_type": "execute_result"
    }
   ],
   "source": [
    "np.linalg.norm(brca_mut - U_brca@(V_brca.T))"
   ]
  },
  {
   "cell_type": "code",
   "execution_count": 54,
   "metadata": {},
   "outputs": [],
   "source": [
    "u, s, v = np.linalg.svd(brca_mut, full_matrices=True)"
   ]
  },
  {
   "cell_type": "code",
   "execution_count": 64,
   "metadata": {},
   "outputs": [
    {
     "data": {
      "text/plain": [
       "(970, 970)"
      ]
     },
     "execution_count": 64,
     "metadata": {},
     "output_type": "execute_result"
    }
   ],
   "source": [
    "u.shape"
   ]
  },
  {
   "cell_type": "code",
   "execution_count": 89,
   "metadata": {},
   "outputs": [],
   "source": [
    "sigma = np.zeros((u.shape[0], v.shape[0]))\n",
    "np.fill_diagonal(sigma, s)"
   ]
  },
  {
   "cell_type": "code",
   "execution_count": 81,
   "metadata": {},
   "outputs": [
    {
     "data": {
      "text/plain": [
       "(970, 970)"
      ]
     },
     "execution_count": 81,
     "metadata": {},
     "output_type": "execute_result"
    }
   ],
   "source": [
    "u.shape"
   ]
  },
  {
   "cell_type": "code",
   "execution_count": 88,
   "metadata": {},
   "outputs": [],
   "source": [
    "np.fill_diagonal(np.zeros((u.shape[0], v.shape[0])), s)"
   ]
  },
  {
   "cell_type": "code",
   "execution_count": 104,
   "metadata": {},
   "outputs": [
    {
     "data": {
      "text/plain": [
       "267.6592815889059"
      ]
     },
     "execution_count": 104,
     "metadata": {},
     "output_type": "execute_result"
    }
   ],
   "source": [
    "np.linalg.norm(brca_mut - u[:, :4]@np.diag(s[:4])@v[:4, :])"
   ]
  },
  {
   "cell_type": "code",
   "execution_count": null,
   "metadata": {},
   "outputs": [],
   "source": []
  },
  {
   "cell_type": "code",
   "execution_count": 97,
   "metadata": {},
   "outputs": [
    {
     "data": {
      "text/plain": [
       "(970, 4)"
      ]
     },
     "execution_count": 97,
     "metadata": {},
     "output_type": "execute_result"
    }
   ],
   "source": [
    "u[:, :4].shape"
   ]
  },
  {
   "cell_type": "code",
   "execution_count": 103,
   "metadata": {},
   "outputs": [
    {
     "data": {
      "text/plain": [
       "(4, 12129)"
      ]
     },
     "execution_count": 103,
     "metadata": {},
     "output_type": "execute_result"
    }
   ],
   "source": [
    "v[:4, :].shape"
   ]
  },
  {
   "cell_type": "code",
   "execution_count": 105,
   "metadata": {},
   "outputs": [
    {
     "data": {
      "text/plain": [
       "<503x12129 sparse matrix of type '<class 'numpy.bool_'>'\n",
       "\twith 21161 stored elements in Compressed Sparse Column format>"
      ]
     },
     "execution_count": 105,
     "metadata": {},
     "output_type": "execute_result"
    }
   ],
   "source": [
    "X_mut"
   ]
  },
  {
   "cell_type": "code",
   "execution_count": 95,
   "metadata": {},
   "outputs": [
    {
     "ename": "ValueError",
     "evalue": "matmul: Input operand 1 has a mismatch in its core dimension 0, with gufunc signature (n?,k),(k,m?)->(n?,m?) (size 970 is different from 4)",
     "output_type": "error",
     "traceback": [
      "\u001b[0;31m---------------------------------------------------------------------------\u001b[0m",
      "\u001b[0;31mValueError\u001b[0m                                Traceback (most recent call last)",
      "\u001b[0;32m<ipython-input-95-2cefab8ec697>\u001b[0m in \u001b[0;36m<module>\u001b[0;34m\u001b[0m\n\u001b[0;32m----> 1\u001b[0;31m \u001b[0mu\u001b[0m\u001b[0;34m[\u001b[0m\u001b[0;34m:\u001b[0m\u001b[0;34m,\u001b[0m \u001b[0;34m:\u001b[0m\u001b[0;36m4\u001b[0m\u001b[0;34m]\u001b[0m\u001b[0;34m@\u001b[0m\u001b[0msigma\u001b[0m\u001b[0;34m\u001b[0m\u001b[0;34m\u001b[0m\u001b[0m\n\u001b[0m",
      "\u001b[0;31mValueError\u001b[0m: matmul: Input operand 1 has a mismatch in its core dimension 0, with gufunc signature (n?,k),(k,m?)->(n?,m?) (size 970 is different from 4)"
     ]
    }
   ],
   "source": [
    "u[:, :4]@sigma"
   ]
  },
  {
   "cell_type": "code",
   "execution_count": 74,
   "metadata": {},
   "outputs": [],
   "source": [
    "temp = np.random.rand(4,4)\n",
    "u_temp, s_temp, v_temp = np.linalg.svd(temp)"
   ]
  },
  {
   "cell_type": "code",
   "execution_count": null,
   "metadata": {},
   "outputs": [],
   "source": []
  },
  {
   "cell_type": "code",
   "execution_count": 63,
   "metadata": {},
   "outputs": [
    {
     "data": {
      "text/plain": [
       "(970, 970)"
      ]
     },
     "execution_count": 63,
     "metadata": {},
     "output_type": "execute_result"
    }
   ],
   "source": [
    "np.diag(s).shape"
   ]
  },
  {
   "cell_type": "code",
   "execution_count": 61,
   "metadata": {},
   "outputs": [
    {
     "data": {
      "text/plain": [
       "(12129, 12129)"
      ]
     },
     "execution_count": 61,
     "metadata": {},
     "output_type": "execute_result"
    }
   ],
   "source": [
    "v.shape"
   ]
  },
  {
   "cell_type": "code",
   "execution_count": 42,
   "metadata": {},
   "outputs": [],
   "source": [
    "top_genes = list(pd.Series(names)[np.flip(np.argsort(np.sort(V_brca, axis = 1)[:, -1]))[:200]])\n",
    "res = {\"top_genes\": top_genes, \"U_new\":U_new, \"V_new\":V_new}\n",
    "    "
   ]
  },
  {
   "cell_type": "code",
   "execution_count": 44,
   "metadata": {},
   "outputs": [
    {
     "data": {
      "text/plain": [
       "['PIK3CA',\n",
       " 'TP53',\n",
       " 'TTN',\n",
       " 'MUC16',\n",
       " 'PCDHA4',\n",
       " 'PCDHA1',\n",
       " 'PCDHA2',\n",
       " 'PCDHA3',\n",
       " 'PCDHA6',\n",
       " 'CDH1']"
      ]
     },
     "execution_count": 44,
     "metadata": {},
     "output_type": "execute_result"
    }
   ],
   "source": [
    "top_genes[:10]"
   ]
  },
  {
   "cell_type": "code",
   "execution_count": 49,
   "metadata": {},
   "outputs": [
    {
     "data": {
      "text/plain": [
       "['TP53',\n",
       " 'PIK3CA',\n",
       " 'TTN',\n",
       " 'MUC16',\n",
       " 'GATA3',\n",
       " 'MAP3K1',\n",
       " 'CDH1',\n",
       " 'RYR2',\n",
       " 'USH2A',\n",
       " 'OBSCN']"
      ]
     },
     "execution_count": 49,
     "metadata": {},
     "output_type": "execute_result"
    }
   ],
   "source": [
    "top_genes[:10]"
   ]
  },
  {
   "cell_type": "code",
   "execution_count": 46,
   "metadata": {},
   "outputs": [],
   "source": [
    "all_cancer_files = [all_cancer_files[2]]\n"
   ]
  },
  {
   "cell_type": "code",
   "execution_count": 47,
   "metadata": {},
   "outputs": [
    {
     "name": "stdout",
     "output_type": "stream",
     "text": [
      "Run input_cancer_data/brca_tcga_pub.mat\n"
     ]
    }
   ],
   "source": [
    "norms = []\n",
    "delta_u_norms = []\n",
    "delta_v_norms = []\n",
    "for idx, file in enumerate(all_cancer_files):\n",
    "    print(\"Run \"+ file)\n",
    "    d = loadmat(file)\n",
    "\n",
    "    X_mut  = ((d[\"X_SNV_Net\"]!=0)+0)\n",
    "    X_exp = d[\"X_EXP_Net\"][:, np.ravel(np.sum(X_mut.todense(), axis=0))>0]\n",
    "    N_sample = X_mut.shape[0]\n",
    "\n",
    "    PearsonCor = np.corrcoef(X_exp)\n",
    "    sigma_bandwidth = 1.0\n",
    "    W_U = np.exp(-((1.-PearsonCor)**2)/(2.*sigma_bandwidth**2))\n",
    "    D_U = np.diag(np.sum(W_U,axis = 0))\n",
    "    L_U = D_U - W_U\n",
    "\n",
    "    K_num = 4\n",
    "    lambda_LU = 1.0\n",
    "    lambda_RU = 1.0\n",
    "    lambda_LV = 1.0\n",
    "    lambda_RV = 1.0\n",
    "\n",
    "    # --- RS-CRNMF --- %\n",
    "    #print('run RS-CRNMF ...')\n",
    "    eps_t = 10**(-5)\n",
    "\n",
    "\n",
    "    U_init = np.maximum(np.random.rand(N_sample,K_num),eps_t)\n",
    "    U_prev = U_init@np.diag(np.sum(U_init,axis = 0)**(-1));\n",
    "    V_init = np.maximum(np.random.rand(len(names),K_num),eps_t);\n",
    "    V_prev = V_init@np.diag(np.sum(U_init, axis = 0));\n",
    "    delta_U = 1.;\n",
    "    delta_V = 1.;\n",
    "    cnt = 0;\n",
    "    norms.append([])\n",
    "    delta_u_norms.append([])\n",
    "    delta_v_norms.append([])\n",
    "    \n",
    "    while ((delta_U > 10**(-3)) or (delta_V > 10**(-3)) and (cnt <= 500)):\n",
    "        norms[idx].append(np.linalg.norm(X_mut - U_prev@V_prev.T, ord=\"fro\"))\n",
    "        cnt = cnt + 1;\n",
    "        V_numer = X_mut.T@U_prev + lambda_LV*W_V@V_prev;\n",
    "        V_denum = V_prev@(U_prev.T@U_prev) + lambda_LV*D_V@V_prev + lambda_RV*np.ones((len(names),len(names)))@V_prev;\n",
    "        V_new = V_prev*V_numer/(V_denum + eps_t);\n",
    "        #print(\"V_new \", V_new.shape)\n",
    "        U_numer = X_mut@V_new + lambda_LU*W_U@U_prev;\n",
    "        U_denum = U_prev@(V_new.T@V_new) + lambda_LU*D_U@U_prev + lambda_RU*U_prev;\n",
    "        U_new = U_prev*U_numer/(U_denum + eps_t);\n",
    "        #print(\"U_new \"U_new.shape)\n",
    "        NormFactor = np.sum(U_new,axis = 0);\n",
    "        #print(NormFactor.shape)\n",
    "        U_new = U_new@np.diag(NormFactor**(-1));\n",
    "        V_new = V_new@np.diag(NormFactor);\n",
    "\n",
    "        delta_U = np.linalg.norm(U_prev - U_new,'fro')**2/(np.linalg.norm(U_prev,'fro')**2);\n",
    "        delta_V = np.linalg.norm(V_prev - V_new,'fro')**2/(np.linalg.norm(V_prev,'fro')**2);\n",
    "        \n",
    "        delta_u_norms[idx].append(delta_U)\n",
    "        delta_v_norms[idx].append(delta_V)\n",
    "        U_prev = U_new;\n",
    "        V_prev = V_new;\n",
    "    top_genes = list(pd.Series(names)[np.flip(np.argsort(np.sort(V_new, axis = 1)[:, -1]))[:200]])\n",
    "    res = {\"top_genes\": top_genes, \"U_new\":U_new, \"V_new\":V_new}\n",
    "    with open(output_save_dir+\"/\"+cancer_names[idx]+\".pk\", 'wb') as f:\n",
    "        pickle.dump(res, f)\n",
    "    "
   ]
  },
  {
   "cell_type": "code",
   "execution_count": null,
   "metadata": {},
   "outputs": [],
   "source": []
  },
  {
   "cell_type": "code",
   "execution_count": null,
   "metadata": {},
   "outputs": [],
   "source": []
  },
  {
   "cell_type": "code",
   "execution_count": 329,
   "metadata": {},
   "outputs": [],
   "source": [
    "X_mut = X_mut.T"
   ]
  },
  {
   "cell_type": "code",
   "execution_count": 331,
   "metadata": {},
   "outputs": [
    {
     "name": "stdout",
     "output_type": "stream",
     "text": [
      "(12129, 4)\n",
      "(503, 4)\n",
      "(12129, 4)\n",
      "(503, 4)\n",
      "(12129, 4)\n",
      "(503, 4)\n",
      "(12129, 4)\n",
      "(503, 4)\n",
      "(12129, 4)\n",
      "(503, 4)\n",
      "(12129, 4)\n",
      "(503, 4)\n",
      "(12129, 4)\n",
      "(503, 4)\n",
      "(12129, 4)\n",
      "(503, 4)\n",
      "(12129, 4)\n",
      "(503, 4)\n",
      "(12129, 4)\n",
      "(503, 4)\n",
      "(12129, 4)\n",
      "(503, 4)\n",
      "(12129, 4)\n",
      "(503, 4)\n",
      "(12129, 4)\n",
      "(503, 4)\n"
     ]
    }
   ],
   "source": [
    "U,V = nmf_t(X_mut)"
   ]
  },
  {
   "cell_type": "code",
   "execution_count": null,
   "metadata": {},
   "outputs": [],
   "source": []
  },
  {
   "cell_type": "code",
   "execution_count": null,
   "metadata": {},
   "outputs": [],
   "source": [
    "matrices = []\n",
    "for idx, file in enumerate(all_cancer_files):\n",
    "    X_mut  = ((d[\"X_EXP_Net\"]))\n",
    "    matrices.append(X_mut)\n",
    "y = []\n",
    "for idx in range(len(matrices)):\n",
    "    y += [idx]*len(matrices[idx])\n",
    "y = np.array(y)\n",
    "X = np.vstack(matrices)\n",
    "import xgboost as xgb"
   ]
  },
  {
   "cell_type": "code",
   "execution_count": 288,
   "metadata": {},
   "outputs": [
    {
     "name": "stdout",
     "output_type": "stream",
     "text": [
      "Run input_cancer_data/gbm_tcga_pub.mat\n",
      "Run input_cancer_data/coadread_tcga_pub.mat\n",
      "Run input_cancer_data/brca_tcga_pub.mat\n"
     ]
    }
   ],
   "source": [
    "norms = []\n",
    "delta_u_norms = []\n",
    "delta_v_norms = []\n",
    "#for idx, file in enumerate(all_cancer_files):\n",
    "    "
   ]
  },
  {
   "cell_type": "code",
   "execution_count": 299,
   "metadata": {},
   "outputs": [
    {
     "data": {
      "text/plain": [
       "(12129, 4)"
      ]
     },
     "execution_count": 299,
     "metadata": {},
     "output_type": "execute_result"
    }
   ],
   "source": [
    "U_prev.shape"
   ]
  },
  {
   "cell_type": "code",
   "execution_count": 300,
   "metadata": {},
   "outputs": [
    {
     "data": {
      "text/plain": [
       "(503, 4)"
      ]
     },
     "execution_count": 300,
     "metadata": {},
     "output_type": "execute_result"
    }
   ],
   "source": [
    "V_prev.shape"
   ]
  },
  {
   "cell_type": "code",
   "execution_count": null,
   "metadata": {},
   "outputs": [],
   "source": [
    "np.argmax(V_prev.)"
   ]
  },
  {
   "cell_type": "code",
   "execution_count": null,
   "metadata": {},
   "outputs": [],
   "source": [
    "def nmf_t(X_mut):\n",
    "    #print(\"Run \"+ file)\n",
    "    #d = loadmat(file)\n",
    "\n",
    "    #X_mut  = ((d[\"X_SNV_Net\"]!=0)+0)\n",
    "    #X_exp = d[\"X_EXP_Net\"][:, np.ravel(np.sum(X_mut.todense(), axis=0))>0]\n",
    "    N_sample = X_mut.shape[0]\n",
    "    X_mut = X_mut.T\n",
    "    #X_exp = X_exp.T\n",
    "    \n",
    "\n",
    "    PearsonCor = np.corrcoef(X_exp)\n",
    "    sigma_bandwidth = 1.0\n",
    "    #W_U = np.exp(-((1.-PearsonCor)**2)/(2.*sigma_bandwidth**2))\n",
    "    #D_U = np.diag(np.sum(W_U,axis = 0))\n",
    "    #L_U = D_U - W_U\n",
    "\n",
    "    K_num = 4\n",
    "    lambda_LU = 1.0\n",
    "    lambda_RU = 1.0\n",
    "    lambda_LV = 1.0\n",
    "    lambda_RV = 1.0\n",
    "\n",
    "    # --- RS-CRNMF --- %\n",
    "    #print('run RS-CRNMF ...')\n",
    "    eps_t = 10**(-5)\n",
    "\n",
    "\n",
    "    U_init = np.maximum(np.random.rand(len(names),K_num),eps_t)\n",
    "    print(U_init.shape)\n",
    "    U_prev = U_init@np.diag(np.sum(U_init,axis = 0)**(-1));\n",
    "    V_init = np.maximum(np.random.rand(N_sample,K_num),eps_t);\n",
    "    print(V_init.shape)\n",
    "    V_prev = V_init@np.diag(np.sum(U_init, axis = 0));\n",
    "    delta_U = 1.;\n",
    "    delta_V = 1.;\n",
    "    cnt = 0;\n",
    "    norms.append([])\n",
    "    delta_u_norms.append([])\n",
    "    delta_v_norms.append([])\n",
    "    \n",
    "    while ((delta_U > 10**(-3)) or (delta_V > 10**(-3)) and (cnt <= 500)):\n",
    "        print(U_prev.shape)\n",
    "        print(V_prev.shape)\n",
    "        norms[idx].append(np.linalg.norm(X_mut - U_prev@V_prev.T, ord=\"fro\"))\n",
    "        cnt = cnt + 1;\n",
    "        V_numer = X_mut.T@U_prev# + lambda_LV*W_U@V_prev;\n",
    "        #print(D_U.shape)\n",
    "        #print(V_prev.shape)\n",
    "        V_denum = V_prev@(U_prev.T@U_prev)+lambda_RV*np.ones((N_sample,N_sample))@V_prev#; + lambda_LV*D_U@V_prev + \n",
    "        V_new = V_prev*V_numer/(V_denum + eps_t);\n",
    "        #print(\"V_new \", V_new.shape)\n",
    "        U_numer = X_mut@V_new + lambda_LU*W_V@U_prev;\n",
    "        U_denum = U_prev@(V_new.T@V_new) + lambda_LU*D_V@U_prev + lambda_RU*U_prev;\n",
    "        U_new = U_prev*U_numer/(U_denum + eps_t);\n",
    "        #print(\"U_new \"U_new.shape)\n",
    "        NormFactor = np.sum(U_new,axis = 0);\n",
    "        #print(NormFactor.shape)\n",
    "        U_new = U_new@np.diag(NormFactor**(-1));\n",
    "        V_new = V_new@np.diag(NormFactor);\n",
    "\n",
    "        delta_U = np.linalg.norm(U_prev - U_new,'fro')**2/(np.linalg.norm(U_prev,'fro')**2);\n",
    "        delta_V = np.linalg.norm(V_prev - V_new,'fro')**2/(np.linalg.norm(V_prev,'fro')**2);\n",
    "        \n",
    "        delta_u_norms[idx].append(delta_U)\n",
    "        delta_v_norms[idx].append(delta_V)\n",
    "        U_prev = U_new;\n",
    "        V_prev = V_new;\n",
    "    top_genes = list(pd.Series(names)[np.flip(np.argsort(np.sort(V_new, axis = 1)[:, -1]))[:200]])\n",
    "    #res = {\"top_genes\": top_genes, \"U_new\":U_new, \"V_new\":V_new}\n",
    "    #with open(output_save_dir+\"/\"+cancer_names[idx]+\".pk\", 'wb') as f:\n",
    "    #    pickle.dump(res, f)\n",
    "    return U_prev, V_prev"
   ]
  },
  {
   "cell_type": "code",
   "execution_count": 7,
   "metadata": {},
   "outputs": [
    {
     "ename": "IndexError",
     "evalue": "list index out of range",
     "output_type": "error",
     "traceback": [
      "\u001b[0;31m---------------------------------------------------------------------------\u001b[0m",
      "\u001b[0;31mIndexError\u001b[0m                                Traceback (most recent call last)",
      "\u001b[0;32m<ipython-input-7-afc66dc87027>\u001b[0m in \u001b[0;36m<module>\u001b[0;34m\u001b[0m\n\u001b[1;32m      4\u001b[0m \u001b[0;32mfor\u001b[0m \u001b[0midx\u001b[0m \u001b[0;32min\u001b[0m \u001b[0mrange\u001b[0m\u001b[0;34m(\u001b[0m\u001b[0mlen\u001b[0m\u001b[0;34m(\u001b[0m\u001b[0moutput_python_genes\u001b[0m\u001b[0;34m)\u001b[0m\u001b[0;34m)\u001b[0m\u001b[0;34m:\u001b[0m\u001b[0;34m\u001b[0m\u001b[0;34m\u001b[0m\u001b[0m\n\u001b[1;32m      5\u001b[0m     \u001b[0mname_of_cancer\u001b[0m \u001b[0;34m=\u001b[0m \u001b[0moutput_python_genes\u001b[0m\u001b[0;34m[\u001b[0m\u001b[0midx\u001b[0m\u001b[0;34m]\u001b[0m\u001b[0;34m.\u001b[0m\u001b[0msplit\u001b[0m\u001b[0;34m(\u001b[0m\u001b[0;34m\"/\"\u001b[0m\u001b[0;34m)\u001b[0m\u001b[0;34m[\u001b[0m\u001b[0;36m1\u001b[0m\u001b[0;34m]\u001b[0m\u001b[0;34m.\u001b[0m\u001b[0msplit\u001b[0m\u001b[0;34m(\u001b[0m\u001b[0;34m\".\"\u001b[0m\u001b[0;34m)\u001b[0m\u001b[0;34m[\u001b[0m\u001b[0;36m0\u001b[0m\u001b[0;34m]\u001b[0m\u001b[0;34m\u001b[0m\u001b[0;34m\u001b[0m\u001b[0m\n\u001b[0;32m----> 6\u001b[0;31m     \u001b[0mmatlab_data\u001b[0m \u001b[0;34m=\u001b[0m \u001b[0mloadmat\u001b[0m\u001b[0;34m(\u001b[0m\u001b[0moutput_matlab_genes\u001b[0m\u001b[0;34m[\u001b[0m\u001b[0midx\u001b[0m\u001b[0;34m]\u001b[0m\u001b[0;34m)\u001b[0m\u001b[0;34m\u001b[0m\u001b[0;34m\u001b[0m\u001b[0m\n\u001b[0m\u001b[1;32m      7\u001b[0m     \u001b[0;32mwith\u001b[0m \u001b[0mopen\u001b[0m\u001b[0;34m(\u001b[0m\u001b[0moutput_python_genes\u001b[0m\u001b[0;34m[\u001b[0m\u001b[0midx\u001b[0m\u001b[0;34m]\u001b[0m\u001b[0;34m,\u001b[0m \u001b[0;34m'rb'\u001b[0m\u001b[0;34m)\u001b[0m \u001b[0;32mas\u001b[0m \u001b[0mf\u001b[0m\u001b[0;34m:\u001b[0m\u001b[0;34m\u001b[0m\u001b[0;34m\u001b[0m\u001b[0m\n\u001b[1;32m      8\u001b[0m         \u001b[0mpython_data\u001b[0m \u001b[0;34m=\u001b[0m \u001b[0mpickle\u001b[0m\u001b[0;34m.\u001b[0m\u001b[0mload\u001b[0m\u001b[0;34m(\u001b[0m\u001b[0mf\u001b[0m\u001b[0;34m)\u001b[0m\u001b[0;34m\u001b[0m\u001b[0;34m\u001b[0m\u001b[0m\n",
      "\u001b[0;31mIndexError\u001b[0m: list index out of range"
     ]
    }
   ],
   "source": [
    "output_matlab_genes = glob.glob(\"output/*.mat\")\n",
    "output_python_genes = glob.glob(\"output/*.pk\")\n",
    "compare_results = {}\n",
    "for idx in range(len(output_python_genes)):\n",
    "    name_of_cancer = output_python_genes[idx].split(\"/\")[1].split(\".\")[0]\n",
    "    matlab_data = loadmat(output_matlab_genes[idx])\n",
    "    with open(output_python_genes[idx], 'rb') as f:\n",
    "        python_data = pickle.load(f)\n",
    "    compare_results[name_of_cancer] = [matlab_data['Candidates_list'], python_data[\"top_genes\"]]"
   ]
  },
  {
   "cell_type": "code",
   "execution_count": 8,
   "metadata": {},
   "outputs": [
    {
     "data": {
      "text/html": [
       "<div>\n",
       "<style scoped>\n",
       "    .dataframe tbody tr th:only-of-type {\n",
       "        vertical-align: middle;\n",
       "    }\n",
       "\n",
       "    .dataframe tbody tr th {\n",
       "        vertical-align: top;\n",
       "    }\n",
       "\n",
       "    .dataframe thead th {\n",
       "        text-align: right;\n",
       "    }\n",
       "</style>\n",
       "<table border=\"1\" class=\"dataframe\">\n",
       "  <thead>\n",
       "    <tr style=\"text-align: right;\">\n",
       "      <th></th>\n",
       "    </tr>\n",
       "  </thead>\n",
       "  <tbody>\n",
       "  </tbody>\n",
       "</table>\n",
       "</div>"
      ],
      "text/plain": [
       "Empty DataFrame\n",
       "Columns: []\n",
       "Index: []"
      ]
     },
     "execution_count": 8,
     "metadata": {},
     "output_type": "execute_result"
    }
   ],
   "source": [
    "pd.DataFrame.from_dict(compare_results)"
   ]
  },
  {
   "cell_type": "code",
   "execution_count": 124,
   "metadata": {},
   "outputs": [],
   "source": [
    "X_mut  = ((d[\"X_SNV_Net\"]!=0)+0)\n",
    "X_exp = d[\"X_EXP_Net\"][:, np.ravel(np.sum(X_mut.todense(), axis=0))>0]"
   ]
  },
  {
   "cell_type": "code",
   "execution_count": 126,
   "metadata": {},
   "outputs": [
    {
     "data": {
      "text/plain": [
       "(503, 12129)"
      ]
     },
     "execution_count": 126,
     "metadata": {},
     "output_type": "execute_result"
    }
   ],
   "source": [
    "X_mut.shape"
   ]
  },
  {
   "cell_type": "code",
   "execution_count": 183,
   "metadata": {},
   "outputs": [],
   "source": [
    "matrices = []\n",
    "for idx, file in enumerate(all_cancer_files):\n",
    "    X_mut  = ((d[\"X_EXP_Net\"]))\n",
    "    matrices.append(X_mut)\n",
    "y = []\n",
    "for idx in range(len(matrices)):\n",
    "    y += [idx]*len(matrices[idx])\n",
    "y = np.array(y)\n",
    "X = np.vstack(matrices)\n",
    "import xgboost as xgb"
   ]
  },
  {
   "cell_type": "code",
   "execution_count": 184,
   "metadata": {},
   "outputs": [
    {
     "data": {
      "text/plain": [
       "(1509,)"
      ]
     },
     "execution_count": 184,
     "metadata": {},
     "output_type": "execute_result"
    }
   ],
   "source": [
    "y.shape"
   ]
  },
  {
   "cell_type": "code",
   "execution_count": 185,
   "metadata": {},
   "outputs": [
    {
     "data": {
      "text/plain": [
       "(1509, 12129)"
      ]
     },
     "execution_count": 185,
     "metadata": {},
     "output_type": "execute_result"
    }
   ],
   "source": [
    "X.shape"
   ]
  },
  {
   "cell_type": "code",
   "execution_count": 186,
   "metadata": {},
   "outputs": [
    {
     "data": {
      "text/plain": [
       "array([[ 0.94933333,  0.        ,  0.242     , ..., -0.38016667,\n",
       "        -0.13533333,  0.369     ],\n",
       "       [ 0.27983333,  0.        ,  1.0385    , ...,  0.07616667,\n",
       "        -0.36633333,  0.0345    ],\n",
       "       [ 0.74866667,  0.        ,  1.1605    , ...,  0.89633333,\n",
       "         0.215     , -0.0495    ],\n",
       "       ...,\n",
       "       [ 0.69683333,  0.        ,  1.042     , ..., -0.1995    ,\n",
       "         1.08466667, -0.4065    ],\n",
       "       [-0.28066667,  0.        ,  0.7175    , ...,  0.37      ,\n",
       "        -0.1615    , -0.5665    ],\n",
       "       [-0.3155    ,  0.        ,  0.6455    , ..., -0.13016667,\n",
       "         0.35083333,  0.1445    ]])"
      ]
     },
     "execution_count": 186,
     "metadata": {},
     "output_type": "execute_result"
    }
   ],
   "source": [
    "X"
   ]
  },
  {
   "cell_type": "code",
   "execution_count": 86,
   "metadata": {},
   "outputs": [],
   "source": [
    "from sklearn.model_selection import train_test_split\n",
    "X_train, X_test, y_train, y_test = train_test_split(X, y, test_size =0.2, shuffle = True, random_state = 42)\n",
    "clf = xgb.XGBClassifier(max_depth=4,n_estimators=100,njobs = -1,)\n"
   ]
  },
  {
   "cell_type": "code",
   "execution_count": 15,
   "metadata": {},
   "outputs": [
    {
     "data": {
      "text/plain": [
       "XGBClassifier(base_score=0.5, booster='gbtree', colsample_bylevel=1,\n",
       "              colsample_bynode=1, colsample_bytree=1, gamma=0,\n",
       "              learning_rate=0.1, max_delta_step=0, max_depth=4,\n",
       "              min_child_weight=1, missing=None, n_estimators=100, n_jobs=1,\n",
       "              njobs=-1, nthread=None, objective='multi:softprob',\n",
       "              random_state=0, reg_alpha=0, reg_lambda=1, scale_pos_weight=1,\n",
       "              seed=None, silent=None, subsample=1, verbosity=1)"
      ]
     },
     "execution_count": 15,
     "metadata": {},
     "output_type": "execute_result"
    }
   ],
   "source": [
    "clf.fit(X_train, y_train)"
   ]
  },
  {
   "cell_type": "code",
   "execution_count": 16,
   "metadata": {},
   "outputs": [],
   "source": [
    "y_pred = clf.predict(X_test)"
   ]
  },
  {
   "cell_type": "code",
   "execution_count": 17,
   "metadata": {},
   "outputs": [],
   "source": [
    "from sklearn.metrics import accuracy_score"
   ]
  },
  {
   "cell_type": "code",
   "execution_count": 18,
   "metadata": {},
   "outputs": [
    {
     "data": {
      "text/plain": [
       "0.039735099337748346"
      ]
     },
     "execution_count": 18,
     "metadata": {},
     "output_type": "execute_result"
    }
   ],
   "source": [
    "accuracy_score(y_test, y_pred)"
   ]
  },
  {
   "cell_type": "code",
   "execution_count": 19,
   "metadata": {},
   "outputs": [],
   "source": [
    "from sklearn.linear_model import LogisticRegression"
   ]
  },
  {
   "cell_type": "code",
   "execution_count": 20,
   "metadata": {},
   "outputs": [],
   "source": [
    "logreg = LogisticRegression()"
   ]
  },
  {
   "cell_type": "code",
   "execution_count": 21,
   "metadata": {},
   "outputs": [
    {
     "name": "stderr",
     "output_type": "stream",
     "text": [
      "/home/mikhailfrolov/yes/lib/python3.7/site-packages/sklearn/linear_model/logistic.py:432: FutureWarning: Default solver will be changed to 'lbfgs' in 0.22. Specify a solver to silence this warning.\n",
      "  FutureWarning)\n",
      "/home/mikhailfrolov/yes/lib/python3.7/site-packages/sklearn/linear_model/logistic.py:469: FutureWarning: Default multi_class will be changed to 'auto' in 0.22. Specify the multi_class option to silence this warning.\n",
      "  \"this warning.\", FutureWarning)\n"
     ]
    },
    {
     "data": {
      "text/plain": [
       "LogisticRegression(C=1.0, class_weight=None, dual=False, fit_intercept=True,\n",
       "                   intercept_scaling=1, l1_ratio=None, max_iter=100,\n",
       "                   multi_class='warn', n_jobs=None, penalty='l2',\n",
       "                   random_state=None, solver='warn', tol=0.0001, verbose=0,\n",
       "                   warm_start=False)"
      ]
     },
     "execution_count": 21,
     "metadata": {},
     "output_type": "execute_result"
    }
   ],
   "source": [
    "logreg.fit(X_train, y_train)"
   ]
  },
  {
   "cell_type": "code",
   "execution_count": 23,
   "metadata": {},
   "outputs": [],
   "source": [
    "y_pred = logreg.predict(X_test)"
   ]
  },
  {
   "cell_type": "code",
   "execution_count": 24,
   "metadata": {},
   "outputs": [
    {
     "data": {
      "text/plain": [
       "0.016556291390728478"
      ]
     },
     "execution_count": 24,
     "metadata": {},
     "output_type": "execute_result"
    }
   ],
   "source": [
    "accuracy_score(y_test, y_pred)"
   ]
  },
  {
   "cell_type": "code",
   "execution_count": 27,
   "metadata": {},
   "outputs": [
    {
     "data": {
      "text/plain": [
       "12129"
      ]
     },
     "execution_count": 27,
     "metadata": {},
     "output_type": "execute_result"
    }
   ],
   "source": [
    "len(names)"
   ]
  },
  {
   "cell_type": "code",
   "execution_count": 30,
   "metadata": {},
   "outputs": [],
   "source": [
    "output_python_genes = glob.glob(\"output/*.pk\")\n",
    "vocab = {}\n",
    "for idx in range(len(output_python_genes)):\n",
    "    name_of_cancer = output_python_genes[idx].split(\"/\")[1].split(\".\")[0]\n",
    "    with open(output_python_genes[idx], 'rb') as f:\n",
    "        python_data = pickle.load(f)\n",
    "        vocab[idx] = python_data"
   ]
  },
  {
   "cell_type": "code",
   "execution_count": 261,
   "metadata": {},
   "outputs": [],
   "source": [
    "top_names = vocab[0]['top_genes'][:1]"
   ]
  },
  {
   "cell_type": "code",
   "execution_count": 262,
   "metadata": {},
   "outputs": [],
   "source": [
    "top_names+=vocab[1]['top_genes'][:1]"
   ]
  },
  {
   "cell_type": "code",
   "execution_count": 263,
   "metadata": {},
   "outputs": [],
   "source": [
    "top_names+=vocab[2]['top_genes'][:1]"
   ]
  },
  {
   "cell_type": "code",
   "execution_count": 264,
   "metadata": {},
   "outputs": [],
   "source": [
    "top_names = list(set(top_names))"
   ]
  },
  {
   "cell_type": "code",
   "execution_count": 265,
   "metadata": {},
   "outputs": [
    {
     "data": {
      "text/plain": [
       "['APC', 'TP53']"
      ]
     },
     "execution_count": 265,
     "metadata": {},
     "output_type": "execute_result"
    }
   ],
   "source": [
    "top_names"
   ]
  },
  {
   "cell_type": "code",
   "execution_count": 160,
   "metadata": {},
   "outputs": [],
   "source": [
    "indexes = [names.index(name) for name in top_names]"
   ]
  },
  {
   "cell_type": "code",
   "execution_count": 161,
   "metadata": {},
   "outputs": [
    {
     "data": {
      "text/plain": [
       "[11179, 3165, 8372, 514, 10921, 7758, 5556]"
      ]
     },
     "execution_count": 161,
     "metadata": {},
     "output_type": "execute_result"
    }
   ],
   "source": [
    "indexes"
   ]
  },
  {
   "cell_type": "code",
   "execution_count": 162,
   "metadata": {},
   "outputs": [
    {
     "data": {
      "text/plain": [
       "array([[1, 0, 1, ..., 1, 1, 1],\n",
       "       [1, 0, 1, ..., 1, 1, 1],\n",
       "       [1, 0, 1, ..., 1, 1, 1],\n",
       "       ...,\n",
       "       [1, 0, 1, ..., 1, 1, 1],\n",
       "       [1, 0, 1, ..., 1, 1, 1],\n",
       "       [1, 0, 1, ..., 1, 1, 1]])"
      ]
     },
     "execution_count": 162,
     "metadata": {},
     "output_type": "execute_result"
    }
   ],
   "source": [
    "X"
   ]
  },
  {
   "cell_type": "code",
   "execution_count": 164,
   "metadata": {},
   "outputs": [],
   "source": [
    "X = X[:, indexes]"
   ]
  },
  {
   "cell_type": "code",
   "execution_count": 165,
   "metadata": {},
   "outputs": [
    {
     "data": {
      "text/plain": [
       "(1509, 7)"
      ]
     },
     "execution_count": 165,
     "metadata": {},
     "output_type": "execute_result"
    }
   ],
   "source": [
    "X.shape"
   ]
  },
  {
   "cell_type": "code",
   "execution_count": 166,
   "metadata": {},
   "outputs": [],
   "source": [
    "from sklearn.model_selection import train_test_split\n",
    "X_train, X_test, y_train, y_test = train_test_split(X, y, test_size =0.2, shuffle = True, random_state = 42)\n",
    "clf = xgb.XGBClassifier(max_depth=4,n_estimators=100,njobs = -1,)\n"
   ]
  },
  {
   "cell_type": "code",
   "execution_count": 167,
   "metadata": {},
   "outputs": [
    {
     "data": {
      "text/plain": [
       "XGBClassifier(base_score=0.5, booster='gbtree', colsample_bylevel=1,\n",
       "              colsample_bynode=1, colsample_bytree=1, gamma=0,\n",
       "              learning_rate=0.1, max_delta_step=0, max_depth=4,\n",
       "              min_child_weight=1, missing=None, n_estimators=100, n_jobs=1,\n",
       "              njobs=-1, nthread=None, objective='multi:softprob',\n",
       "              random_state=0, reg_alpha=0, reg_lambda=1, scale_pos_weight=1,\n",
       "              seed=None, silent=None, subsample=1, verbosity=1)"
      ]
     },
     "execution_count": 167,
     "metadata": {},
     "output_type": "execute_result"
    }
   ],
   "source": [
    "clf.fit(X_train, y_train)"
   ]
  },
  {
   "cell_type": "code",
   "execution_count": null,
   "metadata": {},
   "outputs": [],
   "source": []
  },
  {
   "cell_type": "code",
   "execution_count": 168,
   "metadata": {},
   "outputs": [],
   "source": [
    "y_pred = clf.predict(X_test)"
   ]
  },
  {
   "cell_type": "code",
   "execution_count": 169,
   "metadata": {},
   "outputs": [],
   "source": [
    "from sklearn.metrics import accuracy_score"
   ]
  },
  {
   "cell_type": "code",
   "execution_count": 170,
   "metadata": {},
   "outputs": [
    {
     "data": {
      "text/plain": [
       "0.33112582781456956"
      ]
     },
     "execution_count": 170,
     "metadata": {},
     "output_type": "execute_result"
    }
   ],
   "source": [
    "accuracy_score(y_test, y_pred)"
   ]
  },
  {
   "cell_type": "code",
   "execution_count": null,
   "metadata": {},
   "outputs": [],
   "source": []
  },
  {
   "cell_type": "code",
   "execution_count": 196,
   "metadata": {},
   "outputs": [],
   "source": [
    "from sklearn.model_selection import train_test_split\n",
    "X_train, X_test, y_train, y_test = train_test_split(X, y, test_size =0.2, shuffle = True, random_state = 42)\n",
    "clf = xgb.XGBClassifier(max_depth=4,n_estimators=100,njobs = -1,)\n"
   ]
  },
  {
   "cell_type": "code",
   "execution_count": 147,
   "metadata": {},
   "outputs": [
    {
     "data": {
      "text/plain": [
       "XGBClassifier(base_score=0.5, booster='gbtree', colsample_bylevel=1,\n",
       "              colsample_bynode=1, colsample_bytree=1, gamma=0,\n",
       "              learning_rate=0.1, max_delta_step=0, max_depth=4,\n",
       "              min_child_weight=1, missing=None, n_estimators=100, n_jobs=1,\n",
       "              njobs=-1, nthread=None, objective='multi:softprob',\n",
       "              random_state=0, reg_alpha=0, reg_lambda=1, scale_pos_weight=1,\n",
       "              seed=None, silent=None, subsample=1, verbosity=1)"
      ]
     },
     "execution_count": 147,
     "metadata": {},
     "output_type": "execute_result"
    }
   ],
   "source": [
    "clf.fit(X_train, y_train)"
   ]
  },
  {
   "cell_type": "code",
   "execution_count": null,
   "metadata": {},
   "outputs": [],
   "source": []
  },
  {
   "cell_type": "code",
   "execution_count": 148,
   "metadata": {},
   "outputs": [],
   "source": [
    "y_pred = clf.predict(X_test)"
   ]
  },
  {
   "cell_type": "code",
   "execution_count": 149,
   "metadata": {},
   "outputs": [],
   "source": [
    "from sklearn.metrics import accuracy_score"
   ]
  },
  {
   "cell_type": "code",
   "execution_count": 150,
   "metadata": {},
   "outputs": [
    {
     "data": {
      "text/plain": [
       "0.33112582781456956"
      ]
     },
     "execution_count": 150,
     "metadata": {},
     "output_type": "execute_result"
    }
   ],
   "source": [
    "accuracy_score(y_test, y_pred)"
   ]
  },
  {
   "cell_type": "code",
   "execution_count": 289,
   "metadata": {},
   "outputs": [
    {
     "data": {
      "image/png": "[encoded data removed]",
      "text/plain": [
       "<Figure size 432x288 with 1 Axes>"
      ]
     },
     "metadata": {
      "needs_background": "light"
     },
     "output_type": "display_data"
    }
   ],
   "source": [
    "import matplotlib.pyplot as plt\n",
    "%matplotlib inline\n",
    "for idx in range(len(norms)):\n",
    "    plt.semilogy(norms[idx],'*')"
   ]
  },
  {
   "cell_type": "code",
   "execution_count": 290,
   "metadata": {},
   "outputs": [
    {
     "data": {
      "image/png": "[encoded data removed]",
      "text/plain": [
       "<Figure size 432x288 with 1 Axes>"
      ]
     },
     "metadata": {
      "needs_background": "light"
     },
     "output_type": "display_data"
    }
   ],
   "source": [
    "for idx in range(len(delta_u_norms)):\n",
    "    plt.semilogy(delta_u_norms[idx],'-*')"
   ]
  },
  {
   "cell_type": "code",
   "execution_count": 291,
   "metadata": {},
   "outputs": [
    {
     "data": {
      "image/png": "[encoded data removed]",
      "text/plain": [
       "<Figure size 432x288 with 1 Axes>"
      ]
     },
     "metadata": {
      "needs_background": "light"
     },
     "output_type": "display_data"
    }
   ],
   "source": [
    "for idx in range(len(delta_u_norms)):\n",
    "    plt.semilogy(delta_v_norms[idx],'-*')"
   ]
  },
  {
   "cell_type": "code",
   "execution_count": 190,
   "metadata": {},
   "outputs": [
    {
     "data": {
      "text/plain": [
       "array([[ 0.94933333,  0.        ,  0.242     , ..., -0.38016667,\n",
       "        -0.13533333,  0.369     ],\n",
       "       [ 0.27983333,  0.        ,  1.0385    , ...,  0.07616667,\n",
       "        -0.36633333,  0.0345    ],\n",
       "       [ 0.74866667,  0.        ,  1.1605    , ...,  0.89633333,\n",
       "         0.215     , -0.0495    ],\n",
       "       ...,\n",
       "       [ 0.69683333,  0.        ,  1.042     , ..., -0.1995    ,\n",
       "         1.08466667, -0.4065    ],\n",
       "       [-0.28066667,  0.        ,  0.7175    , ...,  0.37      ,\n",
       "        -0.1615    , -0.5665    ],\n",
       "       [-0.3155    ,  0.        ,  0.6455    , ..., -0.13016667,\n",
       "         0.35083333,  0.1445    ]])"
      ]
     },
     "execution_count": 190,
     "metadata": {},
     "output_type": "execute_result"
    }
   ],
   "source": [
    "X"
   ]
  },
  {
   "cell_type": "code",
   "execution_count": 191,
   "metadata": {},
   "outputs": [
    {
     "data": {
      "text/plain": [
       "array([0, 0, 0, ..., 2, 2, 2])"
      ]
     },
     "execution_count": 191,
     "metadata": {},
     "output_type": "execute_result"
    }
   ],
   "source": [
    "y"
   ]
  },
  {
   "cell_type": "code",
   "execution_count": 192,
   "metadata": {},
   "outputs": [],
   "source": [
    "from sklearn.cluster import KMeans"
   ]
  },
  {
   "cell_type": "code",
   "execution_count": 206,
   "metadata": {},
   "outputs": [],
   "source": [
    "clstr = KMeans(n_clusters=3)"
   ]
  },
  {
   "cell_type": "code",
   "execution_count": 235,
   "metadata": {},
   "outputs": [
    {
     "data": {
      "text/plain": [
       "KMeans(algorithm='auto', copy_x=True, init='k-means++', max_iter=300,\n",
       "       n_clusters=3, n_init=10, n_jobs=None, precompute_distances='auto',\n",
       "       random_state=None, tol=0.0001, verbose=0)"
      ]
     },
     "execution_count": 235,
     "metadata": {},
     "output_type": "execute_result"
    }
   ],
   "source": [
    "clstr.fit(X)"
   ]
  },
  {
   "cell_type": "code",
   "execution_count": 236,
   "metadata": {},
   "outputs": [],
   "source": [
    "val = clstr.predict(X)"
   ]
  },
  {
   "cell_type": "code",
   "execution_count": 237,
   "metadata": {},
   "outputs": [
    {
     "data": {
      "text/plain": [
       "array([0, 0, 0, ..., 2, 2, 2])"
      ]
     },
     "execution_count": 237,
     "metadata": {},
     "output_type": "execute_result"
    }
   ],
   "source": [
    "y"
   ]
  },
  {
   "cell_type": "code",
   "execution_count": 238,
   "metadata": {},
   "outputs": [
    {
     "data": {
      "text/plain": [
       "(1509,)"
      ]
     },
     "execution_count": 238,
     "metadata": {},
     "output_type": "execute_result"
    }
   ],
   "source": [
    "val.shape"
   ]
  },
  {
   "cell_type": "code",
   "execution_count": 239,
   "metadata": {},
   "outputs": [
    {
     "data": {
      "text/plain": [
       "(1509,)"
      ]
     },
     "execution_count": 239,
     "metadata": {},
     "output_type": "execute_result"
    }
   ],
   "source": [
    "y.shape"
   ]
  },
  {
   "cell_type": "code",
   "execution_count": 232,
   "metadata": {},
   "outputs": [],
   "source": [
    "from sklearn.decomposition import PCA\n",
    "pca = PCA(n_components=2)\n",
    "X_tr = pca.fit_transform(X)\n"
   ]
  },
  {
   "cell_type": "code",
   "execution_count": 271,
   "metadata": {},
   "outputs": [
    {
     "data": {
      "text/plain": [
       "(1509, 2)"
      ]
     },
     "execution_count": 271,
     "metadata": {},
     "output_type": "execute_result"
    }
   ],
   "source": [
    "X_tr.shape"
   ]
  },
  {
   "cell_type": "code",
   "execution_count": 234,
   "metadata": {},
   "outputs": [
    {
     "data": {
      "text/plain": [
       "(12129,)"
      ]
     },
     "execution_count": 234,
     "metadata": {},
     "output_type": "execute_result"
    }
   ],
   "source": [
    "val.shape"
   ]
  },
  {
   "cell_type": "code",
   "execution_count": 228,
   "metadata": {},
   "outputs": [
    {
     "data": {
      "text/plain": [
       "(12129,)"
      ]
     },
     "execution_count": 228,
     "metadata": {},
     "output_type": "execute_result"
    }
   ],
   "source": [
    "val.shape"
   ]
  },
  {
   "cell_type": "code",
   "execution_count": 229,
   "metadata": {},
   "outputs": [
    {
     "data": {
      "text/plain": [
       "(1509,)"
      ]
     },
     "execution_count": 229,
     "metadata": {},
     "output_type": "execute_result"
    }
   ],
   "source": [
    "y.shape"
   ]
  },
  {
   "cell_type": "code",
   "execution_count": 240,
   "metadata": {},
   "outputs": [
    {
     "data": {
      "text/plain": [
       "<matplotlib.collections.PathCollection at 0x7f75c5704410>"
      ]
     },
     "execution_count": 240,
     "metadata": {},
     "output_type": "execute_result"
    },
    {
     "data": {
      "image/png": "[encoded data removed]",
      "text/plain": [
       "<Figure size 432x288 with 1 Axes>"
      ]
     },
     "metadata": {
      "needs_background": "light"
     },
     "output_type": "display_data"
    }
   ],
   "source": [
    "plt.scatter(X_tr[:, 0], X_tr[:, 1], c=val)"
   ]
  },
  {
   "cell_type": "code",
   "execution_count": 270,
   "metadata": {},
   "outputs": [
    {
     "data": {
      "text/plain": [
       "<matplotlib.collections.PathCollection at 0x7f75af067110>"
      ]
     },
     "execution_count": 270,
     "metadata": {},
     "output_type": "execute_result"
    },
    {
     "data": {
      "image/png": "[encoded data removed]",
      "text/plain": [
       "<Figure size 432x288 with 1 Axes>"
      ]
     },
     "metadata": {
      "needs_background": "light"
     },
     "output_type": "display_data"
    }
   ],
   "source": [
    "plt.scatter(X_tr[700:1500, 0], X_tr[700:1500, 1], c=y[700:1500])"
   ]
  },
  {
   "cell_type": "code",
   "execution_count": 269,
   "metadata": {},
   "outputs": [
    {
     "data": {
      "text/plain": [
       "array([0, 0, 0, ..., 2, 2, 2])"
      ]
     },
     "execution_count": 269,
     "metadata": {},
     "output_type": "execute_result"
    }
   ],
   "source": []
  },
  {
   "cell_type": "code",
   "execution_count": null,
   "metadata": {},
   "outputs": [],
   "source": []
  }
 ],
 "metadata": {
  "kernelspec": {
   "display_name": "Python 3",
   "language": "python",
   "name": "python3"
  },
  "language_info": {
   "codemirror_mode": {
    "name": "ipython",
    "version": 3
   },
   "file_extension": ".py",
   "mimetype": "text/x-python",
   "name": "python",
   "nbconvert_exporter": "python",
   "pygments_lexer": "ipython3",
   "version": "3.7.4"
  }
 },
 "nbformat": 4,
 "nbformat_minor": 4
}
